{
 "cells": [
  {
   "metadata": {},
   "cell_type": "markdown",
   "source": [
    "# Crawler de Dados - Chaves na Mão\n",
    "\n",
    "Esse notebook tem o mesmo código do script simple_crawler.py."
   ],
   "id": "ee2f7a99c35c391"
  },
  {
   "cell_type": "code",
   "id": "initial_id",
   "metadata": {
    "collapsed": true
   },
   "source": [
    "import json\n",
    "import logging\n",
    "from pathlib import Path\n",
    "from time import sleep\n",
    "from typing import Any\n",
    "\n",
    "import requests\n",
    "from pydantic import BaseModel\n",
    "\n",
    "logging.basicConfig(level=logging.INFO, format=\"%(asctime)s - %(levelname)s - %(message)s\")\n",
    "logging = logging.getLogger(__name__)"
   ],
   "outputs": [],
   "execution_count": null
  },
  {
   "metadata": {},
   "cell_type": "code",
   "source": [
    "class Anuncio(BaseModel):\n",
    "    id: int\n",
    "    titulo: str\n",
    "    ativo: bool\n",
    "    aceita_troca: bool\n",
    "    pet_friendly: bool\n",
    "    descricao: str\n",
    "    area_total: float\n",
    "    area_util: float\n",
    "    categoria: str\n",
    "    preco: float\n",
    "    preco_fmt: str\n",
    "    preco_iptu: str\n",
    "    imagens: list[str]\n",
    "    transacao: str\n",
    "    suites: int\n",
    "    quartos: int\n",
    "    banheiros: int\n",
    "    garagens: int\n",
    "    latitude: float\n",
    "    longitude: float\n",
    "    rua: str\n",
    "    bairro: str\n",
    "    cidade: str\n",
    "    estado: str\n",
    "    cep: str\n",
    "    data_atualizacao: str\n",
    "\n",
    "    def endereco(self) -> str:\n",
    "        partes = [self.rua, self.bairro, self.cidade, self.estado, self.cep]\n",
    "        return \", \".join([parte for parte in partes if parte])"
   ],
   "id": "9afa5a7b63d354a2",
   "outputs": [],
   "execution_count": null
  },
  {
   "metadata": {},
   "cell_type": "code",
   "source": [
    "base_url = \"https://www.chavesnamao.com.br\"\n",
    "base_path = \"/api/realestate/listing/items/\""
   ],
   "id": "e9518e45600b8834",
   "outputs": [],
   "execution_count": null
  },
  {
   "metadata": {},
   "cell_type": "code",
   "source": [
    "def _configura_ultima_pagina(payload: dict[str, Any], ultima: int) -> int:\n",
    "    if ultima <= 0 or ultima > 100:\n",
    "        payload.get(\"metadata\", {}).get(\"totalPages\", 1)\n",
    "        logging.info(f\"Número total de páginas: {ultima}\")\n",
    "\n",
    "        if ultima > 100:\n",
    "            logging.warning(\"Atenção: É permitido coletar no máximo até a página 100\")\n",
    "            ultima = 100\n",
    "\n",
    "    return ultima"
   ],
   "id": "e3f2bdc1df815164",
   "outputs": [],
   "execution_count": null
  },
  {
   "metadata": {},
   "cell_type": "code",
   "source": [
    "def _proxima_url(payload: dict[str, Any]) -> str:\n",
    "    next_url = payload.get(\"metadata\", {}).get(\"links\", {}).get(\"nextApiParams\", \"\")\n",
    "    if next_url:\n",
    "        next_url = f\"{base_url}{base_path}{next_url}\"\n",
    "\n",
    "    return next_url"
   ],
   "id": "2f1ae00e20ffd6b1",
   "outputs": [],
   "execution_count": null
  },
  {
   "metadata": {},
   "cell_type": "code",
   "source": [
    "def coletar_pagina(url: str) -> dict[str, Any]:\n",
    "    payload = requests.get(url, timeout=15).json()\n",
    "    return payload"
   ],
   "id": "927b0c7537efea91",
   "outputs": [],
   "execution_count": null
  },
  {
   "metadata": {},
   "cell_type": "code",
   "source": [
    "def parse_float(value: Any) -> float:\n",
    "    if isinstance(value, (int, float)):\n",
    "        return float(value)\n",
    "    elif isinstance(value, str):\n",
    "        try:\n",
    "            return float(value.replace(\",\", \".\"))\n",
    "        except ValueError:\n",
    "            return 0.0\n",
    "    else:\n",
    "        return 0.0"
   ],
   "id": "fde219e36ec66461",
   "outputs": [],
   "execution_count": null
  },
  {
   "metadata": {},
   "cell_type": "code",
   "source": [
    "def extrair_count(item: dict[str, Any], prop_name: str) -> int:\n",
    "    prop = item.get(prop_name, {})\n",
    "    count = prop.get(\"count\", 0)\n",
    "    max = prop.get(\"max\", 0)\n",
    "\n",
    "    if count == 0 and max == 0:\n",
    "        return 0\n",
    "\n",
    "    if isinstance(max, int):\n",
    "        return max\n",
    "\n",
    "    if isinstance(count, int):\n",
    "        return count\n",
    "\n",
    "    if isinstance(count, str):\n",
    "        try:\n",
    "            return int(count)\n",
    "        except ValueError:\n",
    "            return 0\n",
    "\n",
    "    return 0"
   ],
   "id": "142c031922876440",
   "outputs": [],
   "execution_count": null
  },
  {
   "metadata": {},
   "cell_type": "code",
   "source": [
    "def extrair_coordenadas(item: dict[str, Any], prop_name: str) -> float:\n",
    "    location = item.get(\"location\", {})\n",
    "    if \"geoposition\" not in location:\n",
    "        return 0.0\n",
    "\n",
    "    geoposition = location.get(\"geoposition\", {})\n",
    "    if prop_name not in geoposition:\n",
    "        return 0.0\n",
    "\n",
    "    coordenada = geoposition.get(prop_name, 0.0)\n",
    "    if isinstance(coordenada, (int, float)):\n",
    "        return float(coordenada)\n",
    "    elif isinstance(coordenada, str):\n",
    "        try:\n",
    "            return float(coordenada)\n",
    "        except ValueError:\n",
    "            return 0.0\n",
    "    else:\n",
    "        return 0.0"
   ],
   "id": "3221fbe2e965536",
   "outputs": [],
   "execution_count": null
  },
  {
   "metadata": {},
   "cell_type": "code",
   "source": [
    "def extrair_localizacao(item: dict[str, Any], prop_name: str) -> str:\n",
    "    location = item.get(\"location\", {})\n",
    "    if prop_name not in location:\n",
    "        return \"\"\n",
    "\n",
    "    prop = location.get(prop_name)\n",
    "\n",
    "    if not isinstance(prop, dict):\n",
    "        return str(prop).strip()\n",
    "\n",
    "    if \"name\" not in prop:\n",
    "        return \"\"\n",
    "\n",
    "    nome = prop.get(\"name\", \"\")\n",
    "    return str(nome).strip()"
   ],
   "id": "f9758f22135a17a9",
   "outputs": [],
   "execution_count": null
  },
  {
   "metadata": {},
   "cell_type": "code",
   "source": [
    "def extrair_dados(payload: dict[str, Any]) -> list[Anuncio]:\n",
    "    anuncios: list[Anuncio] = []\n",
    "    items = payload[\"items\"]\n",
    "\n",
    "    for item in items:\n",
    "        if \"id\" not in item:\n",
    "            continue\n",
    "\n",
    "        anuncio = Anuncio(\n",
    "            id=item.get(\"id\", 0),\n",
    "            titulo=item.get(\"title\", \"\"),\n",
    "            ativo=item.get(\"active\", False),\n",
    "            aceita_troca=item.get(\"acceptTrade\", False),\n",
    "            pet_friendly=item.get(\"petFriendly\", False),\n",
    "            descricao=item.get(\"description\", \"\"),\n",
    "            area_total=parse_float(item.get(\"area\", {}).get(\"total\", 0.0)),\n",
    "            area_util=parse_float(item.get(\"area\", {}).get(\"useful\", 0.0)),\n",
    "            categoria=item.get(\"category\", \"\"),\n",
    "            preco=item.get(\"prices\", {}).get(\"rawPrice\", 0.0),\n",
    "            preco_fmt=item.get(\"prices\", {}).get(\"main\", \"\"),\n",
    "            preco_iptu=item.get(\"prices\", {}).get(\"iptuValue\", \"\"),\n",
    "            imagens=item.get(\"pictures\", {}).get(\"list\", []),\n",
    "            transacao=item.get(\"transaction\", \"\"),\n",
    "            quartos=extrair_count(item, \"bedrooms\"),\n",
    "            suites=item.get(\"suites\", {}).get(\"count\", 0) or 0,\n",
    "            banheiros=item.get(\"bathrooms\", {}).get(\"count\", 0) or 0,\n",
    "            garagens=item.get(\"garages\", {}).get(\"count\", 0) or 0,\n",
    "            latitude=extrair_coordenadas(item, \"lat\"),\n",
    "            longitude=extrair_coordenadas(item, \"lon\"),\n",
    "            rua=extrair_localizacao(item, \"street\"),\n",
    "            bairro=extrair_localizacao(item, \"neighborhood\"),\n",
    "            cidade=extrair_localizacao(item, \"city\"),\n",
    "            estado=extrair_localizacao(item, \"state\"),\n",
    "            cep=extrair_localizacao(item, \"zipCode\"),\n",
    "            data_atualizacao=item.get(\"updatedAt\", \"\"),\n",
    "        )\n",
    "        anuncios.append(anuncio)\n",
    "\n",
    "    return anuncios"
   ],
   "id": "e59b4377cccf5bb1",
   "outputs": [],
   "execution_count": null
  },
  {
   "metadata": {},
   "cell_type": "code",
   "source": [
    "def salvar_anuncios_jsonl(anuncios: list[Anuncio], filename: str) -> None:\n",
    "    with Path(filename).open(\"w\", encoding=\"utf-8\") as f:\n",
    "        for anuncio in anuncios:\n",
    "            f.write(anuncio.model_dump_json() + \"\\n\")"
   ],
   "id": "e1dedfa8aa2ecc5b",
   "outputs": [],
   "execution_count": null
  },
  {
   "metadata": {},
   "cell_type": "code",
   "source": [
    "def salva_payload_json(payload: dict[str, Any], filename: str) -> None:\n",
    "    with Path(filename).open(\"w\", encoding=\"utf-8\") as f:\n",
    "        json.dump(payload, f, ensure_ascii=False, indent=4)"
   ],
   "id": "4b9a570ea8a9fda7",
   "outputs": [],
   "execution_count": null
  },
  {
   "metadata": {},
   "cell_type": "code",
   "source": [
    "def coletar_paginas(\n",
    "    level1: str,\n",
    "    level2: str,\n",
    "    primeira: int = 0,\n",
    "    ultima: int = -1,\n",
    ") -> list[Anuncio]:\n",
    "    todos_anuncios: list[Anuncio] = []\n",
    "\n",
    "    url = f\"{base_url}{base_path}?level1={level1}&level2={level2}&pg={primeira}\"\n",
    "    logging.info(f\"Coletando página {primeira}...\")\n",
    "    # Coleta a primeira página\n",
    "    payload = coletar_pagina(url)\n",
    "\n",
    "    # Insere os anúncios da primeira página\n",
    "    todos_anuncios.extend(extrair_dados(payload))\n",
    "\n",
    "    # Define a última página com base no total de páginas retornado pela API\n",
    "    ultima = _configura_ultima_pagina(payload, ultima)\n",
    "\n",
    "    # Obtém a URL da próxima página\n",
    "    next_url = _proxima_url(payload)\n",
    "\n",
    "    for page in range(primeira + 1, ultima + 1):\n",
    "        try:\n",
    "            logging.info(f\"Coletando página {page}...\")\n",
    "            payload = coletar_pagina(next_url)\n",
    "            anuncios = extrair_dados(payload)\n",
    "            todos_anuncios.extend(anuncios)\n",
    "\n",
    "            next_url = _proxima_url(payload)\n",
    "        except Exception as e:\n",
    "            logging.error(f\"Erro ao coletar página {page}: {e}\")\n",
    "            salva_payload_json(payload, f\"../dados/erro_{level2}_pagina_{page}.json\")\n",
    "            continue\n",
    "        finally:\n",
    "            # Adiciona um delay de 1s entre as requisições para não sobrecarregar a API\n",
    "            sleep(1)\n",
    "\n",
    "    return todos_anuncios"
   ],
   "id": "441967c1061caba6",
   "outputs": [],
   "execution_count": null
  },
  {
   "metadata": {},
   "cell_type": "code",
   "source": [
    "level1 = \"imoveis-a-venda\"\n",
    "level2 = \"go-goiania\"\n",
    "arquivo_de_saida = f\"imoveis_{level2}.jsonl\""
   ],
   "id": "32ba628c18282d4a",
   "outputs": [],
   "execution_count": null
  },
  {
   "metadata": {},
   "cell_type": "code",
   "source": [
    "anuncios = coletar_paginas(level1, level2, primeira=1, ultima=1)\n",
    "logging.info(f\"Salvando {len(anuncios)} anúncios em {arquivo_de_saida}...\")\n",
    "salvar_anuncios_jsonl(anuncios, arquivo_de_saida)"
   ],
   "id": "209cd112fb376b2d",
   "outputs": [],
   "execution_count": null
  },
  {
   "metadata": {},
   "cell_type": "code",
   "source": [
    "pagina1 = f\"{base_url}{base_path}?level1={level1}&level2={level2}&pg=1\"\n",
    "payload = coletar_pagina(pagina1)"
   ],
   "id": "86d6a1c5a6950b69",
   "outputs": [],
   "execution_count": null
  },
  {
   "metadata": {},
   "cell_type": "code",
   "source": "payload",
   "id": "72477203cac9c3f4",
   "outputs": [],
   "execution_count": null
  },
  {
   "metadata": {},
   "cell_type": "code",
   "source": "anuncios = extrair_dados(payload)",
   "id": "9dc50d566312b7c9",
   "outputs": [],
   "execution_count": null
  },
  {
   "metadata": {},
   "cell_type": "code",
   "source": "print(anuncios[0].model_dump_json(indent=2))",
   "id": "2fd83f21690df8be",
   "outputs": [],
   "execution_count": null
  },
  {
   "metadata": {},
   "cell_type": "code",
   "source": "",
   "id": "73768435b8c56c69",
   "outputs": [],
   "execution_count": null
  }
 ],
 "metadata": {
  "kernelspec": {
   "display_name": "Python 3",
   "language": "python",
   "name": "python3"
  },
  "language_info": {
   "codemirror_mode": {
    "name": "ipython",
    "version": 2
   },
   "file_extension": ".py",
   "mimetype": "text/x-python",
   "name": "python",
   "nbconvert_exporter": "python",
   "pygments_lexer": "ipython2",
   "version": "2.7.6"
  }
 },
 "nbformat": 4,
 "nbformat_minor": 5
}
