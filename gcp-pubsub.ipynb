{
 "cells": [
  {
   "cell_type": "markdown",
   "id": "94f14e9a-0c24-4199-bea9-f04a7359538d",
   "metadata": {},
   "source": [
    "## GCP Pub/Sub\n",
    "\n",
    "O Pub/Sub é um serviço de mensagens assíncrono e escalável.\n",
    "Nesse notebook iremos explorar os conceitos básicos de tópico, assinaturas, esquemas e retenção.\n",
    "\n",
    "Os dados utilizados estão disponíveis no arquivo `aula-pdm-dados.zip`.\n",
    "\n",
    "Referências: [documentação oficial](https://cloud.google.com/pubsub/docs/overview)"
   ]
  },
  {
   "cell_type": "markdown",
   "id": "7ba7cfbe",
   "metadata": {},
   "source": [
    "### Configurações\n",
    "\n",
    "#### git clone\n",
    "\n",
    "Caso esteja utilizando o dataproc, clone o repositório com os dados:\n",
    "\n",
    "```bash\n",
    "cd /home/dataproc\n",
    "git clone https://github.com/robertogyn19/aula-pdm-pubsub.git\n",
    "cd aula-pdm-pubsub\n",
    "```\n",
    "\n",
    "#### Descompactação dos dados\n",
    "\n",
    "```bash\n",
    "unzip aula-pdm-dados.zip\n",
    "```\n",
    "\n",
    "#### Versão do pubsub\n",
    "Antes de iniciar, caso esteja utilizando o dataproc, verifique qual versão da lib python.\n",
    "Isso pode ser feito através do terminal rodando o comando abaixo:\n",
    "\n",
    "```bash\n",
    "pip list | grep google-cloud-pubsub\n",
    "google-cloud-pubsub               2.18.4\n",
    "```\n",
    "\n",
    "Caso a versão seja anterior a `2.27.0`, precisamos atualizá-la, faça isso rodando o comando abaixo:\n",
    "\n",
    "```bash\n",
    "pip install google-cloud-pubsub==2.27.1\n",
    "```"
   ]
  },
  {
   "cell_type": "markdown",
   "id": "3d62a0da-63cc-4e86-940b-57a26b04f8ab",
   "metadata": {},
   "source": [
    "### 1) Tópicos\n",
    "\n",
    "O primeiro exemplo que vamos ver é o mesmo do [tutorial inicial](https://cloud.google.com/python/docs/reference/pubsub/2.27.1) do cliente Python do Pub/Sub, apenas com alguns comentários para facilitar a compreensão."
   ]
  },
  {
   "cell_type": "code",
   "execution_count": null,
   "id": "175f9dc3-0c10-4784-a9d8-f9483dbcca4b",
   "metadata": {},
   "outputs": [],
   "source": [
    "import os\n",
    "from google.cloud import pubsub_v1\n",
    "from google.api_core.exceptions import AlreadyExists\n",
    "from google.pubsub_v1 import BigQueryConfig, DeadLetterPolicy, Topic, Subscription"
   ]
  },
  {
   "cell_type": "markdown",
   "id": "5717d89e-aff9-4c60-849f-f1b60f8aedff",
   "metadata": {},
   "source": [
    "Antes de iniciar, vamos configurar o ID e o número do projeto da GCP, essas informações serão utilizadas nos exemplos abaixo. Para obter essa informação, acesse o console da GCP e copie os valores como mostrado na imagem:\n",
    "\n",
    "![project-id](imagens/img1-project-info.png)"
   ]
  },
  {
   "cell_type": "code",
   "execution_count": null,
   "id": "cf62b9f8-fc6b-43c2-9bd6-3cef4cf523f5",
   "metadata": {},
   "outputs": [],
   "source": [
    "project_id=\"ferrous-griffin-442710-j9\"\n",
    "project_number=\"625529740055\""
   ]
  },
  {
   "cell_type": "code",
   "execution_count": null,
   "id": "6b6abe6b-37f0-45a3-a1e8-bf22eb93ee18",
   "metadata": {},
   "outputs": [],
   "source": [
    "# Criação do cliente de publicação, com ele é possível criar tópicos e publicar mensagens\n",
    "publisher = pubsub_v1.PublisherClient()\n",
    "\n",
    "# Os nomes dos tópicos seguem o formato projects/<nome-do-projeto>/topics/<nome-do-tópico>\n",
    "# o código abaixo configura esse nome\n",
    "topic_name = \"projects/{project_id}/topics/{topic}\".format(\n",
    "    project_id=project_id,\n",
    "    topic='aula-pdm-primeiro-topico',\n",
    ")\n",
    "topic_name"
   ]
  },
  {
   "cell_type": "code",
   "execution_count": null,
   "id": "760b9510-7c65-4c14-8baa-63bb99807b16",
   "metadata": {},
   "outputs": [],
   "source": [
    "# Criação do tópico. Lembre-se, caso execute esse código duas vezes,\n",
    "# a segunda vez lançará uma exceção dizendo que o tópico já existe\n",
    "publisher.create_topic(name=topic_name)"
   ]
  },
  {
   "cell_type": "code",
   "execution_count": null,
   "id": "faf8d1cc-f1f0-4f12-b8f6-92aeb91fc1d1",
   "metadata": {},
   "outputs": [],
   "source": [
    "# Publicação da nossa primeira mensagem\n",
    "future = publisher.publish(topic_name, b\"My first message!\", versao=\"python3.11\")\n",
    "\n",
    "# A função que publica mensagens retorna um Future, pois é uma operação assíncrona.\n",
    "# Usamos a função result() para aguardar a resposta desse future\n",
    "future.result()"
   ]
  },
  {
   "cell_type": "markdown",
   "id": "dd3d43ba-f3e3-474f-8b00-66e1ce7aa39a",
   "metadata": {},
   "source": [
    "### 2) Assinaturas ou subscriptions\n",
    "\n",
    "Agora que publicamos nossa primeira mensagem, precisamos criar uma assinatura no tópico para consumir a mensagem."
   ]
  },
  {
   "cell_type": "code",
   "execution_count": null,
   "id": "94bc606d-f8d7-4f92-bc71-079ff0c16973",
   "metadata": {},
   "outputs": [],
   "source": [
    "# Configuramos o nome da assinatura para o formato esperado assim como fizemos com o tópico\n",
    "subscription_name = \"projects/{project_id}/subscriptions/{sub}\".format(\n",
    "    project_id=project_id,\n",
    "    sub='aula-pdm-minha-primeira-assinatura',\n",
    ")\n",
    "subscription_name"
   ]
  },
  {
   "cell_type": "code",
   "execution_count": null,
   "id": "b016dc15-e592-409c-91b6-73ddeb11e91a",
   "metadata": {},
   "outputs": [],
   "source": [
    "# A função abaixo será responsável por receber a mensagem \n",
    "def callback(message):\n",
    "    print(f\"data: {message.data.decode('utf-8')} | attributes: {message.attributes}\")\n",
    "    # Essa chamada do ack é como o Pub/Sub controla quais mensagens foram processadas\n",
    "    message.ack()"
   ]
  },
  {
   "cell_type": "code",
   "execution_count": null,
   "id": "d5de39d0-9bee-44f0-abed-4055c36f7de6",
   "metadata": {},
   "outputs": [],
   "source": [
    "# Criação do subscriber, como ele é possível criar assinaturas e \"se inscrever\" em tópicos\n",
    "subscriber = pubsub_v1.SubscriberClient()"
   ]
  },
  {
   "cell_type": "code",
   "execution_count": null,
   "id": "8f175b6d-3a57-41c6-84b2-5899dd2a7cd8",
   "metadata": {
    "scrolled": true
   },
   "outputs": [],
   "source": [
    "# Criação da assinatura. Lembre-se, caso execute esse código duas vezes,\n",
    "# a segunda vez lançará uma exceção dizendo que a assinatura já existe\n",
    "subscriber.create_subscription(\n",
    "    name=subscription_name, topic=topic_name\n",
    ")"
   ]
  },
  {
   "cell_type": "code",
   "execution_count": null,
   "id": "0ebc41e9-0b6c-47c6-8422-868adb3923d2",
   "metadata": {},
   "outputs": [],
   "source": [
    "# A chamada abaixo registra a assinatura com a função de callback\n",
    "# Dessa forma, toda mensagem que chegar no tópico da assinatura, executará o código cadastrado\n",
    "future = subscriber.subscribe(subscription_name, callback)"
   ]
  },
  {
   "cell_type": "code",
   "execution_count": null,
   "id": "8441f1f3-60e1-4546-9c78-5e1ad925a721",
   "metadata": {},
   "outputs": [],
   "source": [
    "# Assim como na publicação, a função result é para aguardar algo\n",
    "# Por quanto tempo devemos esperar por novas mensagens?\n",
    "try:\n",
    "    future.result()\n",
    "except KeyboardInterrupt:\n",
    "    future.cancel()"
   ]
  },
  {
   "cell_type": "markdown",
   "id": "929a7c14-ea15-4885-bc1a-29f78b14f949",
   "metadata": {},
   "source": [
    "### 3) Assinatura do BigQuery\n",
    "\n",
    "Agora que já rodamos alguns códigos simples, vamos ver como podemos criar uma assinatura para ler os dados de um tópico de forma automática e inserir em uma tabela do BigQuery.\n",
    "\n",
    "Essa seção foi baseada na [documentação oficial](https://cloud.google.com/pubsub/docs/create-bigquery-subscription?hl=pt-br).\n",
    "\n",
    "Antes de criar a assinatura e inserir os dados, precisamos preparar o BigQuery.\n",
    "Vamos realizar três procedimentos:\n",
    "1. Criar um dataset no BigQuery, o dataset é onde as tabelas ficam agrupadas, como o esquema em bancos relacionais.\n",
    "2. Criar a tabela no dataset do BigQuery.\n",
    "3. Ajustar a permissão do Pub/Sub para conseguir enviar os dados."
   ]
  },
  {
   "cell_type": "markdown",
   "id": "47c403eb-959e-4a40-8952-d6040ce84cc6",
   "metadata": {},
   "source": [
    "Para criação do dataset e da tabela, vamos executar o comando a seguir no [BigQuery Studio](https://console.cloud.google.com/bigquery).\n",
    "\n",
    "Clique no link `Consulta SQL` e cole o código abaixo. Veja na imagem onde está localizado o link.\n",
    "\n",
    "![bigquery-studio](imagens/img1-bq-studio.png)\n",
    "\n",
    "```sql\n",
    "-- Criação do dataset\n",
    "CREATE SCHEMA aula_pdm;\n",
    "\n",
    "-- Criação da tabela\n",
    "CREATE TABLE aula_pdm.clientes\n",
    "(\n",
    "    city       STRING,\n",
    "    client_id  STRING,\n",
    "    cnae_id    STRING,\n",
    "    cod_city   INTEGER,\n",
    "    cod_tract  STRING,\n",
    "    cod_uf     INTEGER,\n",
    "    state      STRING,\n",
    "    client     STRING,\n",
    "    company_id STRING\n",
    ");\n",
    "```\n",
    "\n",
    "Ao inserir o código acima, clique no botão `Executar`, ao finalizar, irá aparecer o status de cada comando executado. Abaixo tem um exemplo de saída.\n",
    "\n",
    "![bigquery-output](imagens/img1-bq-execute-query.png)"
   ]
  },
  {
   "attachments": {},
   "cell_type": "markdown",
   "id": "0c7d8058-7f57-4bac-8b28-22e7d1142ad8",
   "metadata": {},
   "source": [
    "O último procedimento para habilitar que o Pub/Sub acesse o BigQuery é a gestão de acesso.\n",
    "Vamos precisar acessar a página de [IAM](https://console.cloud.google.com/iam-admin/iam) e depois clicar em `Conceder acesso` ou `Grant Access` (caso esteja em inglês).\n",
    "\n",
    "![iam](imagens/img2-iam.png)\n",
    "\n",
    "No campo `Novos principais / New principals` devemos incluir o nome da Service Account, ela segue esse padrão `service-<project-number>@gcp-sa-pubsub.iam.gserviceaccount.com` onde project-number é o número do projeto da GCP que obtivemos no começo do notebook."
   ]
  },
  {
   "cell_type": "markdown",
   "id": "d8f1cca1-2a95-4342-884b-6fc1916a6b40",
   "metadata": {
    "editable": true,
    "slideshow": {
     "slide_type": ""
    },
    "tags": []
   },
   "source": [
    "\n",
    "\n",
    "Portanto o valor que devo inserir no campo é `service-625529740055@gcp-sa-pubsub.iam.gserviceaccount.com` e no campo Assign roles, temos que preencher com `Editor de dados BigQuery / BigQuery Data Editor`, adicionar outra role clicando no botão `Adicionar outro papel / Add Another Role` e depois selecionando `Assinante do Pub/Sub / Pub/Sub Subscriber`, após preencher esses valores, clique em save.\n",
    "\n",
    "![grant-access](imagens/img2-grant-access-pt.png)\n",
    "\n",
    "Agora já temos tudo pronto para a criação do tópico e da assinatura do BigQuery."
   ]
  },
  {
   "cell_type": "code",
   "execution_count": null,
   "id": "6f807f2c-12aa-42f4-9ea6-5014704b1a78",
   "metadata": {
    "editable": true,
    "slideshow": {
     "slide_type": ""
    },
    "tags": []
   },
   "outputs": [],
   "source": [
    "# Primeiro vamos criar o código que irá receber os dados de clientes.\n",
    "# O código é praticamente igual ao anterior, exceto que agora estamos configurando um período de retenção para as mensagens.\n",
    "\n",
    "topico_clientes = \"projects/{project_id}/topics/{topic}\".format(\n",
    "    project_id=project_id,\n",
    "    topic='aula-pdm-clientes',\n",
    ")\n",
    "topico_clientes"
   ]
  },
  {
   "cell_type": "code",
   "execution_count": null,
   "id": "fb9d4ee8-9054-4cb0-b62d-b90b317e60d5",
   "metadata": {},
   "outputs": [],
   "source": [
    "publisher = pubsub_v1.PublisherClient()"
   ]
  },
  {
   "cell_type": "code",
   "execution_count": null,
   "id": "00918967-977a-4826-802c-a45ec01fb685",
   "metadata": {},
   "outputs": [],
   "source": [
    "topico_obj = Topic({\n",
    "    \"name\": topico_clientes,\n",
    "    \"message_retention_duration\": \"259200s\" # 3 dias\n",
    "})\n",
    "try:\n",
    "    publisher.create_topic(request=topico_obj)\n",
    "except AlreadyExists:\n",
    "    print(f\"O tópico '{topico_clientes}' já existe\")"
   ]
  },
  {
   "cell_type": "markdown",
   "id": "287f253a-5046-4757-a04f-0a816bdf00f8",
   "metadata": {},
   "source": [
    "#### 3.1) Criação de assinaturas pela interface gráfica\n",
    "\n",
    "Antes de criar a assinatura através da interface gráfica, vamos criar um tópico para DLQ para ser utilizado na assinatura."
   ]
  },
  {
   "cell_type": "code",
   "execution_count": null,
   "id": "90488e5c",
   "metadata": {},
   "outputs": [],
   "source": [
    "# Configuração do nome do tópico para DLQ\n",
    "topico_dlq = \"projects/{project_id}/topics/{topic}\".format(\n",
    "    project_id=project_id,\n",
    "    topic='aula-pdm-clientes-bq-dlq',\n",
    ")\n",
    "topico_dlq\n",
    "try:\n",
    "    # Criação do tópico de DLQ\n",
    "    publisher.create_topic(name=topico_dlq)\n",
    "except AlreadyExists:\n",
    "    print(f\"O tópico '{topico_dlq}' já existe\")"
   ]
  },
  {
   "cell_type": "markdown",
   "id": "2c11064f",
   "metadata": {},
   "source": [
    "![new-subscription](imagens/img3-new-sub.png)\n",
    "\n",
    "![create-subscription](imagens/img3-sub-bq-pt.png)\n",
    "\n",
    "![create-subscription-2](imagens/img4-sub-bq-schema-pt.png)\n",
    "\n",
    "![create-subscription-3](imagens/img5-sub-bq-dlq-pt.png)"
   ]
  },
  {
   "cell_type": "markdown",
   "id": "d850ed1a",
   "metadata": {},
   "source": [
    "Após a criação, deverá aparecer a tela da assinatura como essa imagem a seguir.\n",
    "Clique no botão `Conceder o papel de editor` ou `Grant Editor Role` para dar permissão para a conta de serviço do Pub/Sub.\n",
    "\n",
    "![subscription-created](imagens/img5-sub-dlq-access-pt.png)"
   ]
  },
  {
   "cell_type": "markdown",
   "id": "7eebcbb4-7314-4188-a316-925bbd8cfbeb",
   "metadata": {},
   "source": [
    "#### 3.2) Criação de assinaturas através de código python\n",
    "\n",
    "A seguir temos o código para criar uma assinatura do BigQuery assim como fizemos pela interface gráfica."
   ]
  },
  {
   "cell_type": "code",
   "execution_count": null,
   "id": "512c7004-7b7b-4113-8a3c-66c707a96bdd",
   "metadata": {},
   "outputs": [],
   "source": [
    "# Configuração do nome da assinatura\n",
    "assinatura_clientes_bq = \"projects/{project_id}/subscriptions/{sub}\".format(\n",
    "    project_id=project_id,\n",
    "    sub=\"aula-pdm-clientes-bq-python\",\n",
    ")\n",
    "assinatura_clientes_bq"
   ]
  },
  {
   "cell_type": "code",
   "execution_count": null,
   "id": "e09bb6d1-8ae4-4ced-9e44-d9b365380c85",
   "metadata": {},
   "outputs": [],
   "source": [
    "# Configuração do nome do tópico para DLQ\n",
    "topico_dlq = \"projects/{project_id}/topics/{topic}\".format(\n",
    "    project_id=project_id,\n",
    "    topic='aula-pdm-clientes-bq-dlq',\n",
    ")\n",
    "topico_dlq"
   ]
  },
  {
   "cell_type": "code",
   "execution_count": null,
   "id": "bd97d904-a12e-44eb-ba71-e7c484ad576a",
   "metadata": {},
   "outputs": [],
   "source": [
    "try:\n",
    "    # Criação do tópico de DLQ\n",
    "    publisher.create_topic(name=topico_dlq)\n",
    "except AlreadyExists:\n",
    "    print(f\"O tópico '{topico_dlq}' já existe\")"
   ]
  },
  {
   "cell_type": "code",
   "execution_count": null,
   "id": "f4fa4aa9-8d44-495f-908e-cd1c19756c5f",
   "metadata": {},
   "outputs": [],
   "source": [
    "# Configuração da assinatura\n",
    "clientes_assinatura_bq = Subscription({\n",
    "    \"name\": assinatura_clientes_bq,\n",
    "    \"topic\": topico_clientes,\n",
    "    \"bigquery_config\": BigQueryConfig({\n",
    "        \"table\": f\"{project_id}.aula_pdm.clientes\",   # nome da tabela no BigQuery\n",
    "        \"use_table_schema\": True,                     # flag indicando para utilizar o esquema da tabela\n",
    "        \"drop_unknown_fields\": True                   # flag indicando para descartar os campos desconhecidos\n",
    "    }),\n",
    "    \"dead_letter_policy\": DeadLetterPolicy({\n",
    "        \"dead_letter_topic\": topico_dlq\n",
    "    })\n",
    "})"
   ]
  },
  {
   "cell_type": "code",
   "execution_count": null,
   "id": "0605a21c-a049-4497-b4e1-6a91513cc7dc",
   "metadata": {},
   "outputs": [],
   "source": [
    "try:\n",
    "    subscriber.create_subscription(\n",
    "        request=clientes_assinatura_bq\n",
    "    )\n",
    "except AlreadyExists:\n",
    "    printf(f\"A assinatura {assinatura_clientes_bq} já existe\")"
   ]
  },
  {
   "cell_type": "code",
   "execution_count": null,
   "id": "b5a246dc-3460-410a-8999-9dc4ec70f5b6",
   "metadata": {},
   "outputs": [],
   "source": []
  },
  {
   "cell_type": "markdown",
   "id": "3df972a0-0340-49bb-a424-0b287139b2bd",
   "metadata": {},
   "source": [
    "### Exercício prático: Como seria uma assinatura para utilizar o esquema do tópico?\n",
    "\n",
    "O Pub/Sub tem uma funcionalidade para criar esquemas e depois os atribuir a um ou mais tópicos.\n",
    "Podemos definir os esquemas em dois formatos, [Avro Schema](https://avro.apache.org/docs/1.11.1/specification/) ou Protobuf.\n",
    "Abaixo temos o esquema referente aos dados de clientes:\n",
    "\n",
    "```json\n",
    "{\n",
    " \"type\" : \"record\",\n",
    " \"name\" : \"Avro\",\n",
    " \"fields\" : [\n",
    "    {\n",
    "      \"name\": \"city\",\n",
    "      \"type\": \"string\"\n",
    "    },\n",
    "    {\n",
    "      \"name\": \"client_id\",\n",
    "      \"type\": \"string\"\n",
    "    },\n",
    "    {\n",
    "      \"name\": \"cnae_id\",\n",
    "      \"type\": \"string\"\n",
    "    },\n",
    "    {\n",
    "      \"name\": \"cod_city\",\n",
    "      \"type\": \"int\"\n",
    "    },\n",
    "    {\n",
    "      \"name\": \"cod_tract\",\n",
    "      \"type\": \"string\"\n",
    "    },\n",
    "    {\n",
    "      \"name\": \"cod_uf\",\n",
    "      \"type\": \"int\"\n",
    "    },\n",
    "    {\n",
    "      \"name\": \"state\",\n",
    "      \"type\": \"string\"\n",
    "    },\n",
    "    {\n",
    "      \"name\": \"client\",\n",
    "      \"type\": \"string\"\n",
    "    },\n",
    "    {\n",
    "      \"name\": \"company_id\",\n",
    "      \"type\": \"string\"\n",
    "    }\n",
    "  ]\n",
    "}\n",
    "```\n",
    "\n",
    "Tente criar o esquema acima e depois crie uma assinatura que envia os dados para o BigQuery utilizando o esquema do tópico.\n",
    "\n",
    "Execute a consulta abaixo para criar uma tabela no BigQuery.\n",
    "```sql\n",
    "CREATE TABLE aula_pdm.clientes_raw(\n",
    "    data JSON\n",
    ");\n",
    "```"
   ]
  },
  {
   "cell_type": "markdown",
   "id": "9ef7180b-258c-4a51-b698-efe515f576cc",
   "metadata": {},
   "source": [
    "### 4) Envio de mensagens para o tópico"
   ]
  },
  {
   "cell_type": "code",
   "execution_count": null,
   "id": "14d9ac09-dcb8-49dd-8abb-7e37f8a993a8",
   "metadata": {},
   "outputs": [],
   "source": [
    "import csv\n",
    "import json\n",
    "from concurrent import futures\n",
    "\n",
    "from google.cloud.pubsub_v1.futures import Future"
   ]
  },
  {
   "cell_type": "code",
   "execution_count": null,
   "id": "e1e4bf8a-3204-4b56-9ab4-75de724d689a",
   "metadata": {},
   "outputs": [],
   "source": [
    "def csv_to_list_of_dict(csv_path: str) -> list[dict]:\n",
    "    csvfile = open(csv_path, \"r\")\n",
    "    reader = csv.DictReader(csvfile)\n",
    "    data = [row for row in reader]\n",
    "    csvfile.close()\n",
    "    return data"
   ]
  },
  {
   "cell_type": "code",
   "execution_count": null,
   "id": "f1b2cfda-bf7b-41a0-8689-5b95d7feb09f",
   "metadata": {},
   "outputs": [],
   "source": [
    "dados_dir = \"/home/dataproc/aula-pdm-pubsub\"\n",
    "clientes_csv = f\"{dados_dir}/clients.csv\"\n",
    "vendas_csv = f\"{dados_dir}/vendas.csv\""
   ]
  },
  {
   "cell_type": "code",
   "execution_count": null,
   "id": "ba4c9686-f501-45ef-a9a0-dfa88bd709f1",
   "metadata": {},
   "outputs": [],
   "source": [
    "clientes_dados = csv_to_list_of_dict(clientes_csv)"
   ]
  },
  {
   "cell_type": "code",
   "execution_count": null,
   "id": "533b7920-59c3-4b65-bab8-c739d987e465",
   "metadata": {},
   "outputs": [],
   "source": [
    "clientes_dados[0:3]"
   ]
  },
  {
   "cell_type": "code",
   "execution_count": null,
   "id": "3e01df19-2593-4c2a-a765-1534ae496025",
   "metadata": {},
   "outputs": [],
   "source": [
    "vendas_dados = csv_to_list_of_dict(vendas_csv)"
   ]
  },
  {
   "cell_type": "code",
   "execution_count": null,
   "id": "ebd65e02-06a1-4df3-bb23-75008ce1f216",
   "metadata": {},
   "outputs": [],
   "source": [
    "vendas_dados[0]"
   ]
  },
  {
   "cell_type": "code",
   "execution_count": null,
   "id": "00d4c616-f99f-489d-a87b-32883c3cef38",
   "metadata": {},
   "outputs": [],
   "source": [
    "len(vendas_dados)"
   ]
  },
  {
   "cell_type": "code",
   "execution_count": null,
   "id": "b8970d13-c1c9-4b68-8304-2aef050b0bd3",
   "metadata": {},
   "outputs": [],
   "source": [
    "def publica_mensagens(data: list[dict], topico: str):\n",
    "    total = len(data)\n",
    "    finished = []\n",
    "\n",
    "    def done_callback(future: Future):\n",
    "        f = len(finished) + 1\n",
    "        perc = f / total * 100\n",
    "        if f % 100 == 0:\n",
    "            print(f\"Publicação finalizada [{f} / {total} ({perc:.2f}%)]\")\n",
    "        finished.append(True)\n",
    "    \n",
    "    publish_futures = []\n",
    "    for idx, row in enumerate(data):\n",
    "        idx = idx + 1\n",
    "        row_as_json = json.dumps(row).encode(\"utf-8\")\n",
    "        future = publisher.publish(topico, row_as_json)\n",
    "        future.add_done_callback(done_callback)\n",
    "        publish_futures.append(future)\n",
    "    \n",
    "        perc = idx / total * 100\n",
    "        if idx % 100 == 0:\n",
    "            print(f\"Publicando {idx}/{total} ({perc:.2f}%)\")\n",
    "\n",
    "    futures.wait(publish_futures, timeout=60, return_when=futures.ALL_COMPLETED)"
   ]
  },
  {
   "cell_type": "code",
   "execution_count": null,
   "id": "cac90876-a321-4eba-9c9f-c93178f31c5b",
   "metadata": {},
   "outputs": [],
   "source": [
    "publica_mensagens(clientes_dados[0:1000], topico_clientes)"
   ]
  },
  {
   "cell_type": "code",
   "execution_count": null,
   "id": "1e1e13d8-34a9-4e5e-9c76-586a1ba4557a",
   "metadata": {},
   "outputs": [],
   "source": [
    "clientes_dados[0]"
   ]
  },
  {
   "cell_type": "markdown",
   "id": "ed460fc9-add8-415a-be53-bf16c04c0ab3",
   "metadata": {},
   "source": [
    "### Exercício prático: Inserção dos dados de vendas\n",
    "\n",
    "Como seria feita a inserção dos dados de vendas? Lembre-se de que é necessário criar a tabela no BigQuery.\n",
    "Você pode explorar os dados como fizemos logo acima para criar o esquema da tabela."
   ]
  },
  {
   "cell_type": "markdown",
   "id": "2667dbc1-02e1-48d3-b864-63b251dbf2c2",
   "metadata": {},
   "source": [
    "### 5) Assinatura do Google Cloud Storage (GCS)\n",
    "\n",
    "Existe um tipo de assinatura que envia os dados para o GCS em formato Avro. Essa funcionalidade pode ser interessante quando você tem um grande volume de dados ou quer economizar ou não precisa acessar os dados pelo BigQuery.\n",
    "\n",
    "Essa seção foi baseada na [documentação oficial](https://cloud.google.com/pubsub/docs/create-cloudstorage-subscription?hl=pt-br).\n",
    "\n",
    "#### 5.1) Criação do bucket no GCS\n",
    "\n",
    "Para criar uma assinatura do GCS é necessário criar um bucket e ajustar as permissões do mesmo.\n",
    "Vamos criar um bucket pela [interface da GCP](https://console.cloud.google.com/storage/browser).\n",
    "\n",
    "![create-bucket](imagens/img6-create-bucket.png)"
   ]
  },
  {
   "cell_type": "markdown",
   "id": "645fbc0f-9a4f-47dd-9436-4c9d30c7dbdf",
   "metadata": {},
   "source": [
    "#### 5.2) Permissões do Pub/Sub para o GCS\n",
    "\n",
    "Para alterar a permissão, vamos conceder o papel `Storage Admin` a Service Account do Pub/Sub assim como fizemos na seção anterior do BigQuery.\n",
    "Acesse a página de [IAM](https://console.cloud.google.com/iam-admin/iam) e clique no botão `Conceder acesso / Grant Access`.\n",
    "\n",
    "![grant-access-storage](imagens/img7-grant-access.png)"
   ]
  },
  {
   "cell_type": "code",
   "execution_count": null,
   "id": "808c26d4",
   "metadata": {},
   "outputs": [],
   "source": [
    "topico_vendas = \"projects/{project_id}/topics/{topic}\".format(\n",
    "    project_id=project_id,\n",
    "    topic='aula-pdm-vendas',\n",
    ")\n",
    "topico_vendas"
   ]
  },
  {
   "cell_type": "code",
   "execution_count": null,
   "id": "efa1ddf0",
   "metadata": {},
   "outputs": [],
   "source": [
    "publisher = pubsub_v1.PublisherClient()\n",
    "try:\n",
    "    publisher.create_topic(name=topico_vendas)\n",
    "except AlreadyExists:\n",
    "    print(f\"O tópico '{topico_vendas}' já existe\")"
   ]
  },
  {
   "cell_type": "markdown",
   "id": "9677f843-f771-4e5a-895a-fefb0bfdac03",
   "metadata": {},
   "source": [
    "#### 5.3) Criação da assinatura pela interface da GCP\n",
    "\n",
    "Agora vamos criar a assinatura no Pub/Sub através da interface gráfica.\n",
    "\n",
    "![create-subscription-gcs](imagens/img8-sub-gcs.png)\n",
    "\n",
    "![create-subscription-gcs-2](imagens/img9-sub-gcs-file.png)"
   ]
  },
  {
   "cell_type": "markdown",
   "id": "7e1c26f2-1f7d-46de-83af-b2a3f6a28d83",
   "metadata": {},
   "source": [
    "### 6) Envio dos dados de vendas"
   ]
  },
  {
   "cell_type": "code",
   "execution_count": null,
   "id": "4e58b7dc-232b-4749-823a-17b51798338d",
   "metadata": {},
   "outputs": [],
   "source": [
    "publica_mensagens(vendas_dados[0:10000], topico_vendas)"
   ]
  },
  {
   "cell_type": "code",
   "execution_count": null,
   "id": "52b50cf0-fcbf-455d-afa7-7a6be8a4fa76",
   "metadata": {},
   "outputs": [],
   "source": []
  },
  {
   "cell_type": "code",
   "execution_count": null,
   "id": "091898e9-0096-4407-811f-44908124733b",
   "metadata": {},
   "outputs": [],
   "source": []
  },
  {
   "cell_type": "markdown",
   "id": "b77fadeb-b63c-4da5-ba1b-1edd459373dd",
   "metadata": {},
   "source": [
    "### 7) Dados de vendas no BigQuery\n",
    "\n",
    "Nós podemos ler os dados de vendas no BigQuery de duas formas, com uma tabela nativa ou tabela externa.\n",
    "Como o formato Avro já tem o esquema dos dados, a criação da tabela é bem simples.\n",
    "\n",
    "Você pode abrir a tela de criação de tabela a partir das opções do dataset, selecione os 3 pontos e depois `Criar tabela / Create Table`.\n",
    "\n",
    "![create-table](imagens/img10-bq-create-table.png)\n",
    "\n",
    "![create-table2](imagens/img11-bq-create-table-info.png)"
   ]
  },
  {
   "cell_type": "markdown",
   "id": "ca4c3766-ee4d-4472-ad4f-76ea124a3d24",
   "metadata": {},
   "source": [
    "### 8) Leitura de dados no BigQuery\n",
    "\n",
    "Os dados do Pub/Sub para o GCS não levam um esquema de dados, portanto os dados de vendas ficam em uma coluna do tipo `bytes`.\n",
    "O conteúdo dessa coluna é na verdade uma string com encode base64, isso nos ajuda muito durante a conversão.\n",
    "\n",
    "```sql\n",
    "SELECT * FROM `aula_pdm.vendas` LIMIT 10;\n",
    "-- A consulta acima vai retornar os dados mais ou menos assim\n",
    "```\n",
    "\n",
    "![query-result](imagens/img12-bq-query-result.png)"
   ]
  },
  {
   "cell_type": "markdown",
   "id": "e589f25a-b2ee-4f83-ab73-e50ee6821754",
   "metadata": {},
   "source": [
    "Você pode copiar o conteúdo da coluna data e usar algum site de decode de dados em base64 para confirmar de que o conteúdo é o json dos dados de vendas.\n",
    "Abaixo tem um exemplo de conversão usando o terminal.\n",
    "```bash\n",
    "echo -n \"eyJjbGllbnRfaWQiOiAiYzMwNzUiLCAiaXRlbXNfY291bnQiOiAiMSIsICJsaXN0X3ByaWNlIjogIjAuMCIsICJvcmRlcl9kYXRlIjogIjIwMjAtMTEtMjUiLCAib3JkZXJfaWQiOiAiIiwgInByb2R1Y3RfaWQiOiAicDIwNTQiLCAic2FsZV9wcmljZSI6ICI0OC4yNyIsICJzYWxlc21hbl9pZCI6ICJzODEiLCAic3VwcGxpZXJfaWQiOiAic3U3MCIsICJjb21wYW55X2lkIjogIjA2MDMiLCAicHJvZHVjdCI6ICJQcm9kdWN0IHAyMDU0IiwgInNhbGVzbWFuIjogIlNhbGVzbWFuIHM4MSIsICJzdXBwbGllciI6ICJTdXBwbGllciBzdTcwIiwgImNsaWVudCI6ICJDbGllbnQgYzMwNzUifQ==\" | base64 --decode -\n",
    "{\"client_id\": \"c3075\", \"items_count\": \"1\", \"list_price\": \"0.0\", \"order_date\": \"2020-11-25\", \"order_id\": \"\", \"product_id\": \"p2054\", \"sale_price\": \"48.27\", \"salesman_id\": \"s81\", \"supplier_id\": \"su70\", \"company_id\": \"0603\", \"product\": \"Product p2054\", \"salesman\": \"Salesman s81\", \"supplier\": \"Supplier su70\", \"client\": \"Client c3075\"}\n",
    "```"
   ]
  },
  {
   "cell_type": "markdown",
   "id": "35960661-76ae-4b28-8389-0cef75fdbad3",
   "metadata": {
    "execution": {
     "iopub.execute_input": "2024-11-30T09:56:06.920267Z",
     "iopub.status.busy": "2024-11-30T09:56:06.920093Z",
     "iopub.status.idle": "2024-11-30T09:56:07.147475Z",
     "shell.execute_reply": "2024-11-30T09:56:07.076040Z",
     "shell.execute_reply.started": "2024-11-30T09:56:06.920255Z"
    }
   },
   "source": [
    "O BigQuery consegue fazer a conversão desse dado em praticamente toda função de manipulação de string/bytes.\n",
    "No exemplo abaixo, vamos fazer o parser da coluna para o formato JSON e vamos extrair algumas outras colunas.\n",
    "\n",
    "```sql\n",
    "WITH data_with_json AS (\n",
    "  SELECT PARSE_JSON(CAST(data AS STRING)) data_json\n",
    "  FROM `aula_pdm.vendas`\n",
    "),\n",
    "data_fmt AS (\n",
    "  SELECT\n",
    "    JSON_EXTRACT_SCALAR(data_json, '$.client')                       cliente\n",
    "  , CAST(JSON_EXTRACT_SCALAR(data_json, '$.items_count') AS NUMERIC) qtd_itens\n",
    "  , CAST(JSON_EXTRACT_SCALAR(data_json, '$.order_date') AS DATE)     data_pedido\n",
    "  , CAST(JSON_EXTRACT_SCALAR(data_json, '$.list_price') AS FLOAT64)  preco_tabela\n",
    "  , CAST(JSON_EXTRACT_SCALAR(data_json, '$.sale_price') AS FLOAT64)  preco_venda\n",
    "  FROM data_with_json\n",
    ")\n",
    "SELECT *\n",
    "FROM data_fmt\n",
    "WHERE preco_venda > 300\n",
    "```\n",
    "\n",
    "O resultado da consulta acima vai ser parecido com esse abaixo.\n",
    "\n",
    "![bq-query-result](imagens/img13-bq-query-result2.png)"
   ]
  },
  {
   "cell_type": "markdown",
   "id": "0710e119-d3d8-4a48-b0ea-cfbd1c1ef69f",
   "metadata": {},
   "source": []
  }
 ],
 "metadata": {
  "kernelspec": {
   "display_name": "Python 3 (ipykernel)",
   "language": "python",
   "name": "python3"
  },
  "language_info": {
   "codemirror_mode": {
    "name": "ipython",
    "version": 3
   },
   "file_extension": ".py",
   "mimetype": "text/x-python",
   "name": "python",
   "nbconvert_exporter": "python",
   "pygments_lexer": "ipython3",
   "version": "3.12.7"
  }
 },
 "nbformat": 4,
 "nbformat_minor": 5
}
