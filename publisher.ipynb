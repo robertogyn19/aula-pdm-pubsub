{
 "cells": [
  {
   "cell_type": "code",
   "id": "ce1b19af-58c0-4dca-8c06-c3c4c47a0b6f",
   "metadata": {
    "execution": {
     "iopub.execute_input": "2024-11-29T14:57:17.103928Z",
     "iopub.status.busy": "2024-11-29T14:57:17.103735Z",
     "iopub.status.idle": "2024-11-29T14:57:17.106118Z",
     "shell.execute_reply": "2024-11-29T14:57:17.105792Z",
     "shell.execute_reply.started": "2024-11-29T14:57:17.103912Z"
    }
   },
   "source": [
    "import google.auth\n",
    "_, project_id = google.auth.default()"
   ],
   "outputs": [],
   "execution_count": null
  },
  {
   "cell_type": "code",
   "id": "17525bc4-b231-4eac-8bf0-021e271dae9f",
   "metadata": {
    "execution": {
     "iopub.execute_input": "2024-11-29T14:57:22.658972Z",
     "iopub.status.busy": "2024-11-29T14:57:22.658763Z",
     "iopub.status.idle": "2024-11-29T14:57:23.088183Z",
     "shell.execute_reply": "2024-11-29T14:57:23.087874Z",
     "shell.execute_reply.started": "2024-11-29T14:57:22.658955Z"
    }
   },
   "source": [
    "import os\n",
    "from google.cloud import pubsub_v1\n",
    "\n",
    "# Criação do cliente de publicação, com ele é possível criar tópicos e publicar mensagens\n",
    "publisher = pubsub_v1.PublisherClient()\n",
    "\n",
    "# Os nomes dos tópicos seguem o formato projects/<nome-do-projeto>/topics/<nome-do-tópico>\n",
    "# o código abaixo configura esse nome\n",
    "topic_name = \"projects/{project_id}/topics/{topic}\".format(\n",
    "    project_id=project_id,\n",
    "    topic=\"aula-pdm-primeiro-topico\",\n",
    ")\n",
    "topic_name"
   ],
   "outputs": [],
   "execution_count": null
  },
  {
   "cell_type": "code",
   "id": "07b0590c-a36d-440f-9c74-f18f1f497776",
   "metadata": {
    "execution": {
     "iopub.execute_input": "2024-11-29T15:03:51.624191Z",
     "iopub.status.busy": "2024-11-29T15:03:51.623977Z",
     "iopub.status.idle": "2024-11-29T15:03:51.855369Z",
     "shell.execute_reply": "2024-11-29T15:03:51.854906Z",
     "shell.execute_reply.started": "2024-11-29T15:03:51.624174Z"
    }
   },
   "source": [
    "# Publicação da nossa primeira mensagem\n",
    "future = publisher.publish(topic_name, f\"Publicando uma mensagem {project_id}!\".encode(\"utf-8\"), versao=\"python3.11\", ufg=\"aula-pdm\")"
   ],
   "outputs": [],
   "execution_count": null
  },
  {
   "cell_type": "code",
   "id": "8ccc26fa-8876-4e71-8b46-aebf4526f98f",
   "metadata": {},
   "source": [
    "# A função que publica mensagens retorna um Future, pois é uma operação assíncrona.\n",
    "# Usamos a função result() para aguardar a resposta desse future\n",
    "future.result()"
   ],
   "outputs": [],
   "execution_count": null
  },
  {
   "cell_type": "code",
   "id": "7e92c18f-1243-48bf-800f-99b7690e671e",
   "metadata": {},
   "source": [],
   "outputs": [],
   "execution_count": null
  }
 ],
 "metadata": {
  "kernelspec": {
   "display_name": "Python 3 (ipykernel)",
   "language": "python",
   "name": "python3"
  },
  "language_info": {
   "codemirror_mode": {
    "name": "ipython",
    "version": 3
   },
   "file_extension": ".py",
   "mimetype": "text/x-python",
   "name": "python",
   "nbconvert_exporter": "python",
   "pygments_lexer": "ipython3",
   "version": "3.12.7"
  }
 },
 "nbformat": 4,
 "nbformat_minor": 5
}
