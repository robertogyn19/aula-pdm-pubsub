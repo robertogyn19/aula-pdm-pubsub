{
 "cells": [
  {
   "cell_type": "markdown",
   "id": "94f14e9a-0c24-4199-bea9-f04a7359538d",
   "metadata": {},
   "source": [
    "# GCP Pub/Sub\n",
    "\n",
    "O Pub/Sub é um serviço de mensagens assíncrono e escalável.\n",
    "Nesse notebook iremos explorar os conceitos básicos de tópico, assinaturas, esquemas e retenção.\n",
    "\n",
    "Os dados utilizados estão disponíveis no diretório `dados`.\n",
    "\n",
    "Referências: [documentação oficial](https://cloud.google.com/pubsub/docs/overview)"
   ]
  },
  {
   "cell_type": "markdown",
   "id": "7ba7cfbe",
   "metadata": {
    "jp-MarkdownHeadingCollapsed": true
   },
   "source": [
    "## Configurações\n",
    "\n",
    "#### git clone\n",
    "\n",
    "Caso esteja utilizando o dataproc, clone o repositório com os dados:\n",
    "\n",
    "```bash\n",
    "cd /home/dataproc\n",
    "git clone https://github.com/robertogyn19/aula-pdm-pubsub.git\n",
    "cd aula-pdm-pubsub\n",
    "```\n",
    "\n",
    "#### Obtenção dos dados\n",
    "\n",
    "```bash\n",
    "mkdir dados\n",
    "cd dados\n",
    "\n",
    "unzip dados/anuncios.zip\n",
    "```\n",
    "\n",
    "#### Versão do pubsub\n",
    "\n",
    "Antes de iniciar, caso esteja utilizando o dataproc, verifique qual versão da lib python.\n",
    "Isso pode ser feito através do terminal rodando o comando abaixo:\n",
    "\n",
    "```bash\n",
    "pip list | grep google-cloud-pubsub\n",
    "google-cloud-pubsub               2.18.4\n",
    "```\n",
    "\n",
    "Caso a versão seja anterior a `2.27.0`, precisamos atualizá-la, faça isso rodando o comando abaixo:\n",
    "\n",
    "```bash\n",
    "pip install --upgrade google-cloud-pubsub\n",
    "\n",
    "pip list | grep google-cloud-pubsub\n",
    "google-cloud-pubsub               2.31.1\n",
    "```"
   ]
  },
  {
   "metadata": {},
   "cell_type": "code",
   "outputs": [],
   "execution_count": null,
   "source": [
    "%pip install --upgrade google-cloud-pubsub\n",
    "%pip list | grep google-cloud-pubsub"
   ],
   "id": "b4e89eab7f5db7c0"
  },
  {
   "cell_type": "markdown",
   "id": "3d62a0da-63cc-4e86-940b-57a26b04f8ab",
   "metadata": {
    "jp-MarkdownHeadingCollapsed": true
   },
   "source": [
    "## 1. Tópicos\n",
    "\n",
    "O primeiro exemplo que vamos ver é o mesmo do [tutorial inicial](https://cloud.google.com/python/docs/reference/pubsub/2.27.1) do cliente Python do Pub/Sub, apenas com alguns comentários para facilitar a compreensão."
   ]
  },
  {
   "metadata": {},
   "cell_type": "code",
   "outputs": [],
   "execution_count": null,
   "source": [
    "from google.cloud import pubsub_v1\n",
    "from google.api_core.exceptions import AlreadyExists\n",
    "from google.pubsub_v1 import BigQueryConfig, DeadLetterPolicy, Topic, Subscription\n",
    "from google.pubsub_v1.types import PubsubMessage\n",
    "from google.protobuf import timestamp_pb2"
   ],
   "id": "252a9c1eacd63be3"
  },
  {
   "metadata": {},
   "cell_type": "code",
   "outputs": [],
   "execution_count": null,
   "source": [
    "import google.auth\n",
    "\n",
    "_, project_id = google.auth.default()\n",
    "print(project_id)"
   ],
   "id": "f628d6cfd41f1d6d"
  },
  {
   "cell_type": "code",
   "execution_count": null,
   "id": "6b6abe6b-37f0-45a3-a1e8-bf22eb93ee18",
   "metadata": {},
   "outputs": [],
   "source": [
    "# Criação do cliente de publicação, com ele é possível criar tópicos e publicar mensagens\n",
    "publisher = pubsub_v1.PublisherClient()\n",
    "\n",
    "# Os nomes dos tópicos seguem o formato projects/<nome-do-projeto>/topics/<nome-do-tópico>\n",
    "# o código abaixo configura esse nome\n",
    "topic_name = \"projects/{project_id}/topics/{topic}\".format(\n",
    "    project_id=project_id,\n",
    "    topic=\"aula-pdm-primeiro-topico\",\n",
    ")\n",
    "topic_name"
   ]
  },
  {
   "cell_type": "code",
   "execution_count": null,
   "id": "760b9510-7c65-4c14-8baa-63bb99807b16",
   "metadata": {},
   "outputs": [],
   "source": [
    "# Criação do tópico.\n",
    "topico_obj = Topic({\n",
    "    \"name\": topic_name,\n",
    "    \"message_retention_duration\": \"600s\"  # 10 minutos\n",
    "})\n",
    "\n",
    "try:\n",
    "    publisher.create_topic(request=topico_obj)\n",
    "    print(f\"Tópico '{topic_name}' criado com sucesso\")\n",
    "except AlreadyExists:\n",
    "    print(f\"O tópico '{topic_name}' já existe\")"
   ]
  },
  {
   "metadata": {},
   "cell_type": "code",
   "outputs": [],
   "execution_count": null,
   "source": [
    "# Publicação de algumas mensagens\n",
    "for i in range(5):\n",
    "    future = publisher.publish(topic_name, f\"Minha mensagem {i}!\".encode(\"utf-8\"), versao=\"python3.11\", ufg=\"aula-pdm\")\n",
    "    # A função que publica mensagens retorna um Future, pois é uma operação assíncrona.\n",
    "    # Usamos a função result() para aguardar a resposta desse future\n",
    "    print(f\"{i} - {future.result()}\")"
   ],
   "id": "34cfbaafed76c97f"
  },
  {
   "cell_type": "markdown",
   "id": "dd3d43ba-f3e3-474f-8b00-66e1ce7aa39a",
   "metadata": {},
   "source": [
    "## 2. Assinaturas ou subscriptions\n",
    "\n",
    "Agora que publicamos nossa primeira mensagem, precisamos criar uma assinatura no tópico para consumir a mensagem."
   ]
  },
  {
   "cell_type": "code",
   "execution_count": null,
   "id": "94bc606d-f8d7-4f92-bc71-079ff0c16973",
   "metadata": {},
   "outputs": [],
   "source": [
    "# Configuramos o nome da assinatura para o formato esperado assim como fizemos com o tópico\n",
    "subscription_name = \"projects/{project_id}/subscriptions/{sub}\".format(\n",
    "    project_id=project_id,\n",
    "    sub=\"aula-pdm-minha-primeira-assinatura\",\n",
    ")\n",
    "subscription_name"
   ]
  },
  {
   "cell_type": "code",
   "execution_count": null,
   "id": "b016dc15-e592-409c-91b6-73ddeb11e91a",
   "metadata": {},
   "outputs": [],
   "source": [
    "# A função abaixo será responsável por receber a mensagem \n",
    "def callback(message: PubsubMessage):\n",
    "    print(f\"data: {message.data.decode('utf-8')} | attributes: {message.attributes}\")\n",
    "    # Essa chamada do ack é como o Pub/Sub controla quais mensagens foram processadas\n",
    "    message.ack()"
   ]
  },
  {
   "cell_type": "code",
   "execution_count": null,
   "id": "d5de39d0-9bee-44f0-abed-4055c36f7de6",
   "metadata": {},
   "outputs": [],
   "source": [
    "# Criação do subscriber, com ele é possível criar assinaturas e \"se inscrever\" em tópicos\n",
    "subscriber = pubsub_v1.SubscriberClient()"
   ]
  },
  {
   "cell_type": "code",
   "execution_count": null,
   "id": "8f175b6d-3a57-41c6-84b2-5899dd2a7cd8",
   "metadata": {
    "scrolled": true
   },
   "outputs": [],
   "source": [
    "# Criação da assinatura.\n",
    "try:\n",
    "    subscriber.create_subscription(\n",
    "        name=subscription_name, topic=topic_name\n",
    "    )\n",
    "    print(f\"O subscriber {subscription_name} criado com sucesso\")\n",
    "except AlreadyExists:\n",
    "    print(f\"A assinatura {subscription_name} já existe\")"
   ]
  },
  {
   "cell_type": "code",
   "execution_count": null,
   "id": "0ebc41e9-0b6c-47c6-8422-868adb3923d2",
   "metadata": {},
   "outputs": [],
   "source": [
    "# A chamada abaixo registra a assinatura com a função de callback\n",
    "# Dessa forma, toda mensagem que chegar no tópico da assinatura, executará o código cadastrado\n",
    "future = subscriber.subscribe(subscription_name, callback)"
   ]
  },
  {
   "metadata": {},
   "cell_type": "code",
   "outputs": [],
   "execution_count": null,
   "source": [
    "# Publicação de algumas mensagens\n",
    "for i in range(5):\n",
    "    future = publisher.publish(topic_name, f\"Minha mensagem {i + 5}!\".encode(\"utf-8\"), versao=\"python3.11\", ufg=\"aula-pdm\")\n",
    "    # A função que publica mensagens retorna um Future, pois é uma operação assíncrona.\n",
    "    # Usamos a função result() para aguardar a resposta desse future\n",
    "    print(f\"{i} - {future.result()}\")"
   ],
   "id": "a398eb6817e87fd4"
  },
  {
   "cell_type": "code",
   "execution_count": null,
   "id": "8441f1f3-60e1-4546-9c78-5e1ad925a721",
   "metadata": {},
   "outputs": [],
   "source": [
    "# Assim como na publicação, a função result é para aguardar algo\n",
    "# Como as mensagens chegam na função?\n",
    "try:\n",
    "    future.result()\n",
    "except Exception:\n",
    "    print(\"Future cancelado\")\n",
    "finally:\n",
    "    future.cancel()"
   ]
  },
  {
   "cell_type": "code",
   "execution_count": null,
   "id": "300d3bb89cf32c60",
   "metadata": {},
   "outputs": [],
   "source": [
    "from datetime import datetime, timedelta, timezone\n",
    "\n",
    "# 4) Faze um seek para 10 minutos atrás\n",
    "#   (isso reposiciona o ponteiro da subscription para reentregar mensagens\n",
    "#    publicadas desde esse instante, respeitando a retenção configurada)\n",
    "dez_min_atras = datetime.now(timezone.utc) - timedelta(minutes=10)\n",
    "ts = timestamp_pb2.Timestamp()\n",
    "ts.FromDatetime(dez_min_atras)\n",
    "\n",
    "subscriber.seek(request={\"subscription\": subscription_name, \"time\": ts})\n",
    "print(f\"Seek realizado para: {dez_min_atras.isoformat()}\")"
   ]
  },
  {
   "cell_type": "code",
   "execution_count": null,
   "id": "1b81aac23b3d799a",
   "metadata": {},
   "outputs": [],
   "source": [
    "# Agora vamos tentar novamente nos inscrever na assinatura\n",
    "future = subscriber.subscribe(subscription_name, callback)"
   ]
  },
  {
   "cell_type": "markdown",
   "id": "929a7c14-ea15-4885-bc1a-29f78b14f949",
   "metadata": {
    "jp-MarkdownHeadingCollapsed": true
   },
   "source": [
    "## 3. Assinatura do BigQuery\n",
    "\n",
    "Agora que já rodamos alguns códigos simples, vamos ver como podemos criar uma assinatura para ler os dados de um tópico de forma automática e inserir em uma tabela do BigQuery.\n",
    "\n",
    "Essa seção foi baseada na [documentação oficial](https://cloud.google.com/pubsub/docs/create-bigquery-subscription?hl=pt-br).\n",
    "\n",
    "Antes de criar a assinatura e inserir os dados, precisamos preparar o BigQuery.\n",
    "Vamos realizar alguns procedimentos:\n",
    "1. Criar um dataset no BigQuery, o dataset é onde as tabelas ficam agrupadas, como o esquema em bancos relacionais.\n",
    "2. Criar a tabela no dataset do BigQuery."
   ]
  },
  {
   "cell_type": "markdown",
   "id": "47c403eb-959e-4a40-8952-d6040ce84cc6",
   "metadata": {},
   "source": [
    "Para criação do dataset e da tabela, vamos executar o comando a seguir no [BigQuery Studio](https://console.cloud.google.com/bigquery).\n",
    "\n",
    "Clique no link `Consulta SQL` e cole o código abaixo.\n",
    "\n",
    "![bigquery-studio](imagens-pubsub/img1-bq-studio.png)\n",
    "\n",
    "```sql\n",
    "-- Criação do dataset\n",
    "CREATE SCHEMA IF NOT EXISTS aula_pdm;\n",
    "\n",
    "-- Criação da tabela\n",
    "CREATE TABLE IF NOT EXISTS `aula_pdm.anuncios` (\n",
    "  id               INT64,\n",
    "  titulo           STRING,\n",
    "  ativo            BOOL,\n",
    "  aceita_troca     BOOL,\n",
    "  pet_friendly     BOOL,\n",
    "  descricao        STRING,\n",
    "  area_total       FLOAT64,\n",
    "  area_util        FLOAT64,\n",
    "  categoria        STRING,\n",
    "  preco            FLOAT64,\n",
    "  preco_fmt        STRING,\n",
    "  preco_iptu       STRING,\n",
    "  imagens          ARRAY<STRING>,\n",
    "  transacao        STRING,\n",
    "  suites           INT64,\n",
    "  quartos          INT64,\n",
    "  banheiros        INT64,\n",
    "  garagens         INT64,\n",
    "  latitude         FLOAT64,\n",
    "  longitude        FLOAT64,\n",
    "  rua              STRING,\n",
    "  bairro           STRING,\n",
    "  cidade           STRING,\n",
    "  estado           STRING,\n",
    "  cep              STRING,\n",
    "  data_atualizacao DATETIME\n",
    ")\n",
    "PARTITION BY DATE(data_atualizacao)\n",
    "CLUSTER BY cidade, estado;\n",
    "```\n",
    "\n",
    "Ao inserir o código acima, clique no botão `Executar` ou `Run`, ao finalizar, irá aparecer o status de cada comando executado.\n",
    "Abaixo tem um exemplo de saída.\n",
    "\n",
    "![bigquery-output](imagens-pubsub/img-bq-create-v2.png)"
   ]
  },
  {
   "cell_type": "markdown",
   "id": "e47bef0eb97c826f",
   "metadata": {},
   "source": [
    "## 4. Integração entre BigQuery e Pub/Sub"
   ]
  },
  {
   "cell_type": "markdown",
   "id": "bcf439e92c6bb2ca",
   "metadata": {},
   "source": [
    "Primeiro vamos criar o tópico que irá receber os dados de anúncios.\n",
    "O código é praticamente igual ao anterior."
   ]
  },
  {
   "cell_type": "code",
   "execution_count": null,
   "id": "7c8be9efc50c2825",
   "metadata": {
    "editable": true,
    "slideshow": {
     "slide_type": ""
    },
    "tags": []
   },
   "outputs": [],
   "source": [
    "topico_anuncios = \"projects/{project_id}/topics/{topic}\".format(\n",
    "    project_id=project_id,\n",
    "    topic=\"aula-pdm-anuncios\",\n",
    ")\n",
    "topico_anuncios"
   ]
  },
  {
   "cell_type": "code",
   "execution_count": null,
   "id": "fb9d4ee8-9054-4cb0-b62d-b90b317e60d5",
   "metadata": {},
   "outputs": [],
   "source": [
    "publisher = pubsub_v1.PublisherClient()"
   ]
  },
  {
   "cell_type": "code",
   "execution_count": null,
   "id": "00918967-977a-4826-802c-a45ec01fb685",
   "metadata": {},
   "outputs": [],
   "source": [
    "topico_obj = Topic({\n",
    "    \"name\": topico_anuncios,\n",
    "    \"message_retention_duration\": \"259200s\"  # 3 dias\n",
    "})\n",
    "try:\n",
    "    publisher.create_topic(request=topico_obj)\n",
    "except AlreadyExists:\n",
    "    print(f\"O tópico '{topico_anuncios}' já existe\")"
   ]
  },
  {
   "cell_type": "markdown",
   "id": "74330dad71a80559",
   "metadata": {},
   "source": [
    "### 4.1) Permissões do Pub/Sub para o BigQuery\n",
    "\n",
    "Para o Pub/Sub conseguir enviar os dados para o BigQuery, precisamos ajustar as permissões.\n",
    "Execute o código abaixo de dentro do Cloud Shell ou do terminal da sua máquina local.\n",
    "\n",
    "![cloud-shell](imagens-dataflow/img2-cloud-shell.png)"
   ]
  },
  {
   "cell_type": "markdown",
   "id": "740a8aed-1900-42a8-b529-d20bf0a18218",
   "metadata": {
    "execution": {
     "iopub.execute_input": "2025-09-14T13:57:04.842466Z",
     "iopub.status.busy": "2025-09-14T13:57:04.842227Z",
     "iopub.status.idle": "2025-09-14T13:57:04.848483Z",
     "shell.execute_reply": "2025-09-14T13:57:04.847960Z",
     "shell.execute_reply.started": "2025-09-14T13:57:04.842446Z"
    }
   },
   "source": [
    "```shell\n",
    "# Obtém o ID do projeto\n",
    "export PROJECT_ID=$(gcloud config get project)\n",
    "\n",
    "# Obtém o número do projeto\n",
    "export PROJECT_NUMBER=$(gcloud projects describe \"$PROJECT_ID\" --format='value(projectNumber)')\n",
    "\n",
    "# Conta de serviço do Pub/Sub\n",
    "export SA=$(echo \"service-$PROJECT_NUMBER@gcp-sa-pubsub.iam.gserviceaccount.com\")\n",
    "\n",
    "# Concede as permissões necessárias\n",
    "gcloud projects add-iam-policy-binding \"$PROJECT_ID\" \\\n",
    "  --member=\"serviceAccount:$SA\" \\\n",
    "  --role=\"roles/bigquery.dataEditor\"\n",
    "\n",
    "gcloud projects add-iam-policy-binding \"$PROJECT_ID\" \\\n",
    "  --member=\"serviceAccount:$SA\" \\\n",
    "  --role=\"roles/storage.admin\"\n",
    "```"
   ]
  },
  {
   "cell_type": "markdown",
   "id": "09775369-d147-4db3-8def-3fcc6afa8cc7",
   "metadata": {
    "jp-MarkdownHeadingCollapsed": true
   },
   "source": [
    "### 4.2) Configuração da DLQ\n",
    "\n",
    "Vamos criar um tópico e uma assinatura da DLQ, para receber as mensagens com erro, essa é uma boa prática quando utilizamos assinaturas do tipo BigQuery."
   ]
  },
  {
   "cell_type": "code",
   "execution_count": null,
   "id": "90488e5c",
   "metadata": {},
   "outputs": [],
   "source": [
    "# Configuração do tópico para DLQ\n",
    "topico_dlq = \"projects/{project_id}/topics/{topic}\".format(\n",
    "    project_id=project_id,\n",
    "    topic=\"aula-pdm-anuncios-dlq\",\n",
    ")\n",
    "topico_dlq\n",
    "try:\n",
    "    # Criação do tópico de DLQ\n",
    "    publisher.create_topic(name=topico_dlq)\n",
    "except AlreadyExists:\n",
    "    print(f\"O tópico '{topico_dlq}' já existe\")"
   ]
  },
  {
   "cell_type": "code",
   "execution_count": null,
   "id": "344f6dd7-7c68-42a5-9367-0b9533aca19b",
   "metadata": {},
   "outputs": [],
   "source": [
    "# Configuração da assinatura da DLQ\n",
    "\n",
    "assinatura_dlq = \"projects/{project_id}/subscriptions/{sub}\".format(\n",
    "    project_id=project_id,\n",
    "    sub=\"aula-pdm-anuncios-dlq-sub\",\n",
    ")\n",
    "try:\n",
    "    subscriber.create_subscription(name=assinatura_dlq, topic=topico_dlq)\n",
    "except AlreadyExists:\n",
    "    print(f\"A assinatura {assinatura_dlq} já existe\")"
   ]
  },
  {
   "cell_type": "markdown",
   "id": "287f253a-5046-4757-a04f-0a816bdf00f8",
   "metadata": {
    "jp-MarkdownHeadingCollapsed": true
   },
   "source": [
    "### 4.3) Criação de assinaturas pela interface gráfica"
   ]
  },
  {
   "cell_type": "markdown",
   "id": "2c11064f",
   "metadata": {},
   "source": [
    "![new-subscription](imagens-pubsub/img3-new-sub.png)\n",
    "\n",
    "![create-subscription](imagens-pubsub/img-v2-sub-bq1.png)\n",
    "\n",
    "![create-subscription-2](imagens-pubsub/img-v2-sub-bq2.png)\n",
    "\n",
    "![create-subscription-3](imagens-pubsub/img-v2-sub-bq3.png)"
   ]
  },
  {
   "cell_type": "markdown",
   "id": "d850ed1a",
   "metadata": {},
   "source": [
    "Após a criação, deverá aparecer a tela da assinatura como essa imagem a seguir.\n",
    "Clique no botão `Conceder o papel de editor` ou `Grant Editor Role` para dar permissão para a conta de serviço do Pub/Sub.\n",
    "\n",
    "![subscription-created](imagens-pubsub/img5-sub-dlq-access-pt.png)"
   ]
  },
  {
   "cell_type": "markdown",
   "id": "7eebcbb4-7314-4188-a316-925bbd8cfbeb",
   "metadata": {
    "jp-MarkdownHeadingCollapsed": true
   },
   "source": [
    "### 4.4) Criação de assinaturas através de código python\n",
    "\n",
    "A seguir temos o código para criar uma assinatura do BigQuery assim como fizemos pela interface gráfica."
   ]
  },
  {
   "cell_type": "code",
   "execution_count": null,
   "id": "512c7004-7b7b-4113-8a3c-66c707a96bdd",
   "metadata": {},
   "outputs": [],
   "source": [
    "# Configuração do nome da assinatura\n",
    "assinatura_anuncios_bq = \"projects/{project_id}/subscriptions/{sub}\".format(\n",
    "    project_id=project_id,\n",
    "    sub=\"aula-pdm-anuncios-bq-python\",\n",
    ")\n",
    "assinatura_anuncios_bq"
   ]
  },
  {
   "cell_type": "code",
   "execution_count": null,
   "id": "e09bb6d1-8ae4-4ced-9e44-d9b365380c85",
   "metadata": {},
   "outputs": [],
   "source": [
    "# Configuração do nome do tópico para DLQ\n",
    "topico_dlq = \"projects/{project_id}/topics/{topic}\".format(\n",
    "    project_id=project_id,\n",
    "    topic='aula-pdm-anuncios-bq-dlq',\n",
    ")\n",
    "topico_dlq"
   ]
  },
  {
   "cell_type": "code",
   "execution_count": null,
   "id": "bd97d904-a12e-44eb-ba71-e7c484ad576a",
   "metadata": {},
   "outputs": [],
   "source": [
    "try:\n",
    "    # Criação do tópico de DLQ\n",
    "    publisher.create_topic(name=topico_dlq)\n",
    "except AlreadyExists:\n",
    "    print(f\"O tópico '{topico_dlq}' já existe\")"
   ]
  },
  {
   "cell_type": "code",
   "execution_count": null,
   "id": "f4fa4aa9-8d44-495f-908e-cd1c19756c5f",
   "metadata": {},
   "outputs": [],
   "source": [
    "# Configuração da assinatura\n",
    "anuncios_assinatura_bq = Subscription({\n",
    "    \"name\": assinatura_anuncios_bq,\n",
    "    \"topic\": topico_anuncios,\n",
    "    \"bigquery_config\": BigQueryConfig({\n",
    "        \"table\": f\"{project_id}.aula_pdm.anuncios\",  # nome da tabela no BigQuery\n",
    "        \"use_table_schema\": True,  # flag indicando para utilizar o esquema da tabela\n",
    "        \"drop_unknown_fields\": True  # flag indicando para descartar os campos desconhecidos\n",
    "    }),\n",
    "    \"dead_letter_policy\": DeadLetterPolicy({\n",
    "        \"dead_letter_topic\": topico_dlq\n",
    "    })\n",
    "})"
   ]
  },
  {
   "cell_type": "code",
   "execution_count": null,
   "id": "0605a21c-a049-4497-b4e1-6a91513cc7dc",
   "metadata": {},
   "outputs": [],
   "source": [
    "try:\n",
    "    subscriber.create_subscription(\n",
    "        request=anuncios_assinatura_bq\n",
    "    )\n",
    "except AlreadyExists:\n",
    "    print(f\"A assinatura {assinatura_anuncios_bq} já existe\")"
   ]
  },
  {
   "cell_type": "code",
   "execution_count": null,
   "id": "b5a246dc-3460-410a-8999-9dc4ec70f5b6",
   "metadata": {},
   "outputs": [],
   "source": []
  },
  {
   "cell_type": "markdown",
   "id": "3df972a0-0340-49bb-a424-0b287139b2bd",
   "metadata": {
    "jp-MarkdownHeadingCollapsed": true
   },
   "source": [
    "### 4.5) Exercício prático: Como seria uma assinatura para utilizar o esquema do tópico?\n",
    "\n",
    "O Pub/Sub tem uma funcionalidade para criar esquemas e depois os atribuir a um ou mais tópicos.\n",
    "Podemos definir os esquemas em dois formatos, [Avro Schema](https://avro.apache.org/docs/1.11.1/specification/) ou Protobuf."
   ]
  },
  {
   "cell_type": "markdown",
   "id": "e748c4e4-5a3d-4e7a-95e0-2874420912b1",
   "metadata": {},
   "source": [
    "Abaixo temos o esquema para algumas colunas da tabela anúncios:\n",
    "\n",
    "```json\n",
    "{\n",
    " \"type\" : \"record\",\n",
    " \"name\" : \"Avro\",\n",
    " \"fields\" : [\n",
    "    {\n",
    "      \"name\": \"site\",\n",
    "      \"type\": \"string\"\n",
    "    },\n",
    "    {\n",
    "      \"name\": \"id_link\",\n",
    "      \"type\": \"int\"\n",
    "    },\n",
    "    {\n",
    "      \"name\": \"anuncio_id\",\n",
    "      \"type\": \"int\"\n",
    "    },\n",
    "    {\n",
    "      \"name\": \"descricao\",\n",
    "      \"type\": \"string\"\n",
    "    },\n",
    "    {\n",
    "      \"name\": \"titulo\",\n",
    "      \"type\": \"string\"\n",
    "    },\n",
    "    {\n",
    "      \"name\": \"area_total\",\n",
    "      \"type\": \"float\"\n",
    "    },\n",
    "    {\n",
    "      \"name\": \"qtd_quartos\",\n",
    "      \"type\": \"int\"\n",
    "    },\n",
    "    {\n",
    "      \"name\": \"preco\",\n",
    "      \"type\": \"float\"\n",
    "    },\n",
    "    {\n",
    "      \"name\": \"data_cadastro\",\n",
    "      \"type\": \"int\",\n",
    "      \"logicalType\": \"date\"\n",
    "    }\n",
    "  ]\n",
    "}\n",
    "```\n",
    "\n",
    "Tente criar o esquema acima e depois crie uma assinatura que envia os dados para o BigQuery utilizando o esquema do tópico.\n",
    "\n",
    "Execute a consulta abaixo para criar uma tabela no BigQuery.\n",
    "```sql\n",
    "CREATE TABLE aula_pdm.anuncios_raw(\n",
    "    data JSON\n",
    ");\n",
    "```"
   ]
  },
  {
   "cell_type": "markdown",
   "id": "e54ef9a1-b0d1-418b-b682-4e40f33aefac",
   "metadata": {
    "jp-MarkdownHeadingCollapsed": true
   },
   "source": [
    "## 5. Verificando mensagens na DLQ\n",
    "\n",
    "As mensagens que o Pub/Sub não consegue inserir no BigQuery, são enviadas para o tópico de DLQ que nós criamos.\n",
    "Vamos utilizar o código abaixo para verificar como são esses erros."
   ]
  },
  {
   "cell_type": "code",
   "execution_count": null,
   "id": "d3386db0-9854-4a04-864d-996d6ed9fb04",
   "metadata": {},
   "outputs": [],
   "source": [
    "# A função abaixo será responsável por receber a mensagem \n",
    "def callback(message):\n",
    "    print(f\"data: {message.data.decode('utf-8')} | attributes: {message.attributes}\")\n",
    "    # Essa chamada do ack é como o Pub/Sub controla quais mensagens foram processadas\n",
    "    message.ack()"
   ]
  },
  {
   "cell_type": "code",
   "execution_count": null,
   "id": "85efc460-0097-43eb-9bdd-6980bd66f2ed",
   "metadata": {},
   "outputs": [],
   "source": [
    "# Criação do subscriber, com ele é possível criar assinaturas e \"se inscrever\" em tópicos\n",
    "subscriber = pubsub_v1.SubscriberClient()"
   ]
  },
  {
   "cell_type": "code",
   "execution_count": null,
   "id": "fb37a018-1d31-4ab1-ba48-5ae048170d5b",
   "metadata": {},
   "outputs": [],
   "source": [
    "future_dlq = subscriber.subscribe(assinatura_dlq, callback)"
   ]
  },
  {
   "cell_type": "code",
   "execution_count": null,
   "id": "dd06ee46-feba-469c-bd9f-87dd39f0ac62",
   "metadata": {},
   "outputs": [],
   "source": [
    "try:\n",
    "    future_dlq.result()\n",
    "except Exception:\n",
    "    print(\"Future cancelado\")\n",
    "finally:\n",
    "    future_dlq.cancel()"
   ]
  },
  {
   "cell_type": "markdown",
   "id": "60749241-44ac-40f4-a3d5-1aa18ab22749",
   "metadata": {},
   "source": [
    "Agora que temos uma assinatura no tópico da DLQ, vamos publicar uma mensagem inválida e ver o que acontece.\n",
    "Para isso, vamos abrir o tópico `aula-pdm-anuncios`."
   ]
  },
  {
   "cell_type": "markdown",
   "id": "e3559da4-bb35-4542-aefa-48dd9d7524a9",
   "metadata": {},
   "source": [
    "![publicar-mensagem](imagens-pubsub/img-v2-pubsub-topic-publish-msg.png)"
   ]
  },
  {
   "cell_type": "markdown",
   "id": "5d6ee54f-bc27-4254-95e8-d7497795a013",
   "metadata": {},
   "source": [
    "![publicar-mensagem](imagens-pubsub/img-v2-pubsub-topic-publish-msg2.png)"
   ]
  },
  {
   "cell_type": "markdown",
   "id": "68f6196e-60f5-4b85-b708-c0e544be567e",
   "metadata": {},
   "source": [
    "Copie o JSON abaixo e cole no campo `Mensagem` e depois clique no botão publicar.\n",
    "A mensagem abaixo foi alterada para que o campo `area_total` ficasse com o tipo string, gerando um erro de parser.\n",
    "\n",
    "```json\n",
    "{\n",
    "  \"id\": 34595135,\n",
    "  \"titulo\": \"Casa 181 m² - cidade de deus - montes claros de goiás - go\",\n",
    "  \"ativo\": true,\n",
    "  \"aceita_troca\": true,\n",
    "  \"pet_friendly\": false,\n",
    "  \"descricao\": \"IMÓVEL EM LEILÃO PELA EMPRESA MEGA LEILÕES.\",\n",
    "  \"area_total\": \"valor-inválido\",\n",
    "  \"area_util\": 181.0,\n",
    "  \"categoria\": \"residential\",\n",
    "  \"preco\": 251200.0,\n",
    "  \"preco_fmt\": \"R$ 251.200\",\n",
    "  \"preco_iptu\": \"\",\n",
    "  \"imagens\": [\n",
    "    \"67351/34595135/go-montes-claros-de-goias-nao-encontrado-casa-sobrado-a-venda-2-quartos-68c07b5a-1.jpg\",\n",
    "    \"67351/34595135/go-montes-claros-de-goias-nao-encontrado-casa-sobrado-a-venda-2-quartos-68c07b5a-2.jpg\",\n",
    "    \"67351/34595135/go-montes-claros-de-goias-nao-encontrado-casa-sobrado-a-venda-2-quartos-68c07b5a-3.jpg\",\n",
    "    \"67351/34595135/go-montes-claros-de-goias-nao-encontrado-casa-sobrado-a-venda-2-quartos-68c07b5a-4.jpg\"\n",
    "  ],\n",
    "  \"transacao\": \"SELL\",\n",
    "  \"suites\": 0,\n",
    "  \"quartos\": 2,\n",
    "  \"banheiros\": 3,\n",
    "  \"garagens\": 0,\n",
    "  \"latitude\": -16.00127,\n",
    "  \"longitude\": -51.39166,\n",
    "  \"rua\": \"Rua Roncador\",\n",
    "  \"bairro\": \"Loteamento Cidade de Deus\",\n",
    "  \"cidade\": \"Montes Claros de Goiás\",\n",
    "  \"estado\": \"Goiás\",\n",
    "  \"cep\": \"76255-000\",\n",
    "  \"data_atualizacao\": \"2025-09-09 16:40:29\"\n",
    "}\n",
    "```"
   ]
  },
  {
   "cell_type": "markdown",
   "id": "bb1764c3-2d7d-4210-9c77-dd77c536d983",
   "metadata": {},
   "source": [
    "O print da assinatura da DLQ deve imprimir um erro parecido com esse abaixo.\n",
    "\n",
    "```shell\n",
    "data: {\n",
    "  \"id\": 34595135,\n",
    "  \"titulo\": \"Casa 181 m² - cidade de deus - montes claros de goiás - go\",\n",
    "  \"ativo\": true,\n",
    "  \"aceita_troca\": true,\n",
    "  \"pet_friendly\": false,\n",
    "  \"descricao\": \"IMÓVEL EM LEILÃO PELA EMPRESA MEGA LEILÕES.\",\n",
    "  \"area_total\": \"valor-inválido\",\n",
    "  \"area_util\": 181.0,\n",
    "  \"categoria\": \"residential\",\n",
    "  \"preco\": 251200.0,\n",
    "  \"preco_fmt\": \"R$ 251.200\",\n",
    "  \"preco_iptu\": \"\",\n",
    "  \"imagens\": [\n",
    "    \"67351/34595135/go-montes-claros-de-goias-nao-encontrado-casa-sobrado-a-venda-2-quartos-68c07b5a-1.jpg\",\n",
    "    \"67351/34595135/go-montes-claros-de-goias-nao-encontrado-casa-sobrado-a-venda-2-quartos-68c07b5a-2.jpg\",\n",
    "    \"67351/34595135/go-montes-claros-de-goias-nao-encontrado-casa-sobrado-a-venda-2-quartos-68c07b5a-3.jpg\",\n",
    "    \"67351/34595135/go-montes-claros-de-goias-nao-encontrado-casa-sobrado-a-venda-2-quartos-68c07b5a-4.jpg\"\n",
    "  ],\n",
    "  \"transacao\": \"SELL\",\n",
    "  \"suites\": 0,\n",
    "  \"quartos\": 2,\n",
    "  \"banheiros\": 3,\n",
    "  \"garagens\": 0,\n",
    "  \"latitude\": -16.00127,\n",
    "  \"longitude\": -51.39166,\n",
    "  \"rua\": \"Rua Roncador\",\n",
    "  \"bairro\": \"Loteamento Cidade de Deus\",\n",
    "  \"cidade\": \"Montes Claros de Goiás\",\n",
    "  \"estado\": \"Goiás\",\n",
    "  \"cep\": \"76255-000\",\n",
    "  \"data_atualizacao\": \"2025-09-09 16:40:29\"\n",
    "} | attributes: \n",
    "{\n",
    "  'CloudPubSubDeadLetterSourceDeliveryErrorMessage': 'Table Schema Field: `area_total` is not compatible with the passed in JSON. JSON: valor-inválido, table schema type: double.',\n",
    "  'CloudPubSubDeadLetterSourceTopicPublishTime': '2025-09-14T14:43:46.802+00:00',\n",
    "  'CloudPubSubDeadLetterSourceSubscriptionProject': 'aula-pdm-472019',\n",
    "  'CloudPubSubDeadLetterSourceDeliveryCount': '5',\n",
    "  'CloudPubSubDeadLetterSourceSubscription': 'aula-pdm-bq-anuncios'\n",
    "}\n",
    "```"
   ]
  },
  {
   "cell_type": "markdown",
   "id": "9ef7180b-258c-4a51-b698-efe515f576cc",
   "metadata": {},
   "source": [
    "## 6. Envio de mensagens para o tópico"
   ]
  },
  {
   "cell_type": "markdown",
   "id": "393a27c58962ef3b",
   "metadata": {},
   "source": [
    "Vamos abrir o notebook `publicacao-anuncios.ipynb` e executar o código para enviar os dados para o tópico `aula-pdm-anuncios`."
   ]
  },
  {
   "cell_type": "markdown",
   "id": "2667dbc1-02e1-48d3-b864-63b251dbf2c2",
   "metadata": {
    "jp-MarkdownHeadingCollapsed": true
   },
   "source": [
    "## 7. Assinatura do Google Cloud Storage (GCS)\n",
    "\n",
    "Existe um tipo de assinatura que envia os dados para o GCS em formato Avro. Essa funcionalidade pode ser interessante quando você tem um grande volume de dados ou quer economizar ou não precisa acessar os dados pelo BigQuery.\n",
    "\n",
    "Essa seção foi baseada na [documentação oficial](https://cloud.google.com/pubsub/docs/create-cloudstorage-subscription?hl=pt-br)."
   ]
  },
  {
   "cell_type": "markdown",
   "id": "df564fe0-ad47-4fb1-8ee8-477890f8189b",
   "metadata": {},
   "source": [
    "### 7.1. Criação do bucket no GCS\n",
    "\n",
    "Para criar uma assinatura do GCS é necessário criar um bucket e ajustar as permissões do mesmo.\n",
    "Vamos criar um bucket pela [interface da GCP](https://console.cloud.google.com/storage/browser).\n",
    "\n",
    "![create-bucket](imagens-pubsub/img6-create-bucket.png)"
   ]
  },
  {
   "cell_type": "markdown",
   "id": "9677f843-f771-4e5a-895a-fefb0bfdac03",
   "metadata": {},
   "source": [
    "### 7.2. Criação da assinatura pela interface da GCP\n",
    "\n",
    "Agora vamos criar a assinatura no Pub/Sub através da interface gráfica.\n",
    "\n",
    "![create-subscription-gcs](imagens-pubsub/img8-sub-gcs.png)\n",
    "\n",
    "![create-subscription-gcs-2](imagens-pubsub/img9-sub-gcs-file.png)"
   ]
  },
  {
   "cell_type": "markdown",
   "id": "0710e119-d3d8-4a48-b0ea-cfbd1c1ef69f",
   "metadata": {},
   "source": []
  }
 ],
 "metadata": {
  "kernelspec": {
   "display_name": "Python 3 (ipykernel)",
   "language": "python",
   "name": "python3"
  },
  "language_info": {
   "codemirror_mode": {
    "name": "ipython",
    "version": 3
   },
   "file_extension": ".py",
   "mimetype": "text/x-python",
   "name": "python",
   "nbconvert_exporter": "python",
   "pygments_lexer": "ipython3",
   "version": "3.10.18"
  }
 },
 "nbformat": 4,
 "nbformat_minor": 5
}
