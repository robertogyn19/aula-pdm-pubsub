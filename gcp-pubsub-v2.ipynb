{
 "cells": [
  {
   "cell_type": "markdown",
   "id": "94f14e9a-0c24-4199-bea9-f04a7359538d",
   "metadata": {},
   "source": [
    "# GCP Pub/Sub\n",
    "\n",
    "O Pub/Sub é um serviço de mensagens assíncrono e escalável.\n",
    "Nesse notebook iremos explorar os conceitos básicos de tópico, assinaturas, esquemas e retenção.\n",
    "\n",
    "Os dados utilizados estão disponíveis no arquivo `aula-pdm-dados.zip`.\n",
    "\n",
    "Referências: [documentação oficial](https://cloud.google.com/pubsub/docs/overview)"
   ]
  },
  {
   "cell_type": "markdown",
   "id": "7ba7cfbe",
   "metadata": {
    "jp-MarkdownHeadingCollapsed": true
   },
   "source": [
    "## Configurações\n",
    "\n",
    "#### git clone\n",
    "\n",
    "Caso esteja utilizando o dataproc, clone o repositório com os dados:\n",
    "\n",
    "```bash\n",
    "cd /home/dataproc\n",
    "git clone https://github.com/robertogyn19/aula-pdm-pubsub.git\n",
    "cd aula-pdm-pubsub\n",
    "```\n",
    "\n",
    "#### Obtenção dos dados\n",
    "\n",
    "```bash\n",
    "mkdir dados\n",
    "cd dados\n",
    "\n",
    "<TODO>\n",
    "```\n",
    "\n",
    "#### Versão do pubsub\n",
    "\n",
    "Antes de iniciar, caso esteja utilizando o dataproc, verifique qual versão da lib python.\n",
    "Isso pode ser feito através do terminal rodando o comando abaixo:\n",
    "\n",
    "```bash\n",
    "pip list | grep google-cloud-pubsub\n",
    "google-cloud-pubsub               2.18.4\n",
    "```\n",
    "\n",
    "Caso a versão seja anterior a `2.27.0`, precisamos atualizá-la, faça isso rodando o comando abaixo:\n",
    "\n",
    "```bash\n",
    "pip install --upgrade google-cloud-pubsub\n",
    "\n",
    "pip list | grep google-cloud-pubsub\n",
    "google-cloud-pubsub               2.31.1\n",
    "```"
   ]
  },
  {
   "cell_type": "markdown",
   "id": "3d62a0da-63cc-4e86-940b-57a26b04f8ab",
   "metadata": {},
   "source": [
    "## 1. Tópicos\n",
    "\n",
    "O primeiro exemplo que vamos ver é o mesmo do [tutorial inicial](https://cloud.google.com/python/docs/reference/pubsub/2.27.1) do cliente Python do Pub/Sub, apenas com alguns comentários para facilitar a compreensão."
   ]
  },
  {
   "cell_type": "code",
   "execution_count": null,
   "id": "175f9dc3-0c10-4784-a9d8-f9483dbcca4b",
   "metadata": {},
   "outputs": [],
   "source": [
    "from google.cloud import pubsub_v1\n",
    "from google.api_core.exceptions import AlreadyExists\n",
    "from google.pubsub_v1 import BigQueryConfig, DeadLetterPolicy, Topic, Subscription\n",
    "from google.protobuf import duration_pb2, field_mask_pb2, timestamp_pb2"
   ]
  },
  {
   "metadata": {},
   "cell_type": "code",
   "outputs": [],
   "execution_count": null,
   "source": [
    "import google.auth\n",
    "\n",
    "_, project_id = google.auth.default()\n",
    "print(project_id)"
   ],
   "id": "11b436f862f78d1e"
  },
  {
   "cell_type": "code",
   "execution_count": null,
   "id": "6b6abe6b-37f0-45a3-a1e8-bf22eb93ee18",
   "metadata": {},
   "outputs": [],
   "source": [
    "# Criação do cliente de publicação, com ele é possível criar tópicos e publicar mensagens\n",
    "publisher = pubsub_v1.PublisherClient()\n",
    "\n",
    "# Os nomes dos tópicos seguem o formato projects/<nome-do-projeto>/topics/<nome-do-tópico>\n",
    "# o código abaixo configura esse nome\n",
    "topic_name = \"projects/{project_id}/topics/{topic}\".format(\n",
    "    project_id=project_id,\n",
    "    topic=\"aula-pdm-primeiro-topico\",\n",
    ")\n",
    "topic_name"
   ]
  },
  {
   "cell_type": "code",
   "execution_count": null,
   "id": "760b9510-7c65-4c14-8baa-63bb99807b16",
   "metadata": {},
   "outputs": [],
   "source": [
    "# Criação do tópico.\n",
    "topico_obj = Topic({\n",
    "    \"name\": topic_name,\n",
    "    \"message_retention_duration\": \"600s\"  # 10 minutos\n",
    "})\n",
    "\n",
    "try:\n",
    "    publisher.create_topic(request=topico_obj)\n",
    "except AlreadyExists:\n",
    "    print(f\"O tópico '{topic_name}' já existe\")"
   ]
  },
  {
   "metadata": {},
   "cell_type": "code",
   "outputs": [],
   "execution_count": null,
   "source": [
    "# Publicação de algumas mensagens\n",
    "for i in range(5):\n",
    "    future = publisher.publish(topic_name, f\"Minha mensagem {i}!\".encode(\"utf-8\"), versao=\"python3.11\", ufg=\"aula-pdm\")\n",
    "    # A função que publica mensagens retorna um Future, pois é uma operação assíncrona.\n",
    "    # Usamos a função result() para aguardar a resposta desse future\n",
    "    print(f\"{i} - {future.result()}\")"
   ],
   "id": "faf8d1cc-f1f0-4f12-b8f6-92aeb91fc1d1"
  },
  {
   "cell_type": "markdown",
   "id": "dd3d43ba-f3e3-474f-8b00-66e1ce7aa39a",
   "metadata": {},
   "source": [
    "## 2. Assinaturas ou subscriptions\n",
    "\n",
    "Agora que publicamos nossa primeira mensagem, precisamos criar uma assinatura no tópico para consumir a mensagem."
   ]
  },
  {
   "cell_type": "code",
   "execution_count": null,
   "id": "94bc606d-f8d7-4f92-bc71-079ff0c16973",
   "metadata": {},
   "outputs": [],
   "source": [
    "# Configuramos o nome da assinatura para o formato esperado assim como fizemos com o tópico\n",
    "subscription_name = \"projects/{project_id}/subscriptions/{sub}\".format(\n",
    "    project_id=project_id,\n",
    "    sub=\"aula-pdm-minha-primeira-assinatura\",\n",
    ")\n",
    "subscription_name"
   ]
  },
  {
   "cell_type": "code",
   "execution_count": null,
   "id": "b016dc15-e592-409c-91b6-73ddeb11e91a",
   "metadata": {},
   "outputs": [],
   "source": [
    "# A função abaixo será responsável por receber a mensagem \n",
    "def callback(message):\n",
    "    print(f\"data: {message.data.decode('utf-8')} | attributes: {message.attributes}\")\n",
    "    # Essa chamada do ack é como o Pub/Sub controla quais mensagens foram processadas\n",
    "    message.ack()"
   ]
  },
  {
   "cell_type": "code",
   "execution_count": null,
   "id": "d5de39d0-9bee-44f0-abed-4055c36f7de6",
   "metadata": {},
   "outputs": [],
   "source": [
    "# Criação do subscriber, com ele é possível criar assinaturas e \"se inscrever\" em tópicos\n",
    "subscriber = pubsub_v1.SubscriberClient()"
   ]
  },
  {
   "cell_type": "code",
   "execution_count": null,
   "id": "8f175b6d-3a57-41c6-84b2-5899dd2a7cd8",
   "metadata": {
    "scrolled": true
   },
   "outputs": [],
   "source": [
    "# Criação da assinatura.\n",
    "try:\n",
    "    subscriber.create_subscription(\n",
    "        name=subscription_name, topic=topic_name\n",
    "    )\n",
    "except AlreadyExists:\n",
    "    print(f\"A assinatura {subscription_name} já existe\")"
   ]
  },
  {
   "cell_type": "code",
   "execution_count": null,
   "id": "0ebc41e9-0b6c-47c6-8422-868adb3923d2",
   "metadata": {},
   "outputs": [],
   "source": [
    "# A chamada abaixo registra a assinatura com a função de callback\n",
    "# Dessa forma, toda mensagem que chegar no tópico da assinatura, executará o código cadastrado\n",
    "future = subscriber.subscribe(subscription_name, callback)"
   ]
  },
  {
   "cell_type": "code",
   "execution_count": null,
   "id": "8441f1f3-60e1-4546-9c78-5e1ad925a721",
   "metadata": {},
   "outputs": [],
   "source": [
    "# Assim como na publicação, a função result é para aguardar algo\n",
    "# Ao executar o código abaixo, será que vai retornar algo?\n",
    "# E por quanto tempo devemos esperar por novas mensagens?\n",
    "try:\n",
    "    future.result()\n",
    "except KeyboardInterrupt:\n",
    "    future.cancel()"
   ]
  },
  {
   "metadata": {},
   "cell_type": "code",
   "outputs": [],
   "execution_count": null,
   "source": [
    "from datetime import datetime, timedelta, timezone\n",
    "\n",
    "# 4) Fazer SEEK para 10 minutos atrás\n",
    "#   (isso reposiciona o ponteiro da subscription para reentregar mensagens\n",
    "#    publicadas desde esse instante, respeitando a retenção configurada)\n",
    "dez_min_atras = datetime.now(timezone.utc) - timedelta(minutes=10)\n",
    "ts = timestamp_pb2.Timestamp()\n",
    "ts.FromDatetime(dez_min_atras)\n",
    "\n",
    "subscriber.seek(request={\"subscription\": subscription_name, \"time\": ts})\n",
    "print(f\"Seek realizado para: {dez_min_atras.isoformat()}\")"
   ],
   "id": "300d3bb89cf32c60"
  },
  {
   "metadata": {},
   "cell_type": "code",
   "outputs": [],
   "execution_count": null,
   "source": [
    "# Agora vamos tentar novamente nos inscrever na assinatura\n",
    "future = subscriber.subscribe(subscription_name, callback)"
   ],
   "id": "1b81aac23b3d799a"
  },
  {
   "metadata": {},
   "cell_type": "code",
   "outputs": [],
   "execution_count": null,
   "source": [
    "# E agora, será que vai imprimir as mensagens?\n",
    "try:\n",
    "    future.result()\n",
    "except KeyboardInterrupt:\n",
    "    future.cancel()"
   ],
   "id": "af8d5f3b6b9e2b99"
  },
  {
   "cell_type": "markdown",
   "id": "929a7c14-ea15-4885-bc1a-29f78b14f949",
   "metadata": {},
   "source": [
    "## 3. Assinatura do BigQuery\n",
    "\n",
    "Agora que já rodamos alguns códigos simples, vamos ver como podemos criar uma assinatura para ler os dados de um tópico de forma automática e inserir em uma tabela do BigQuery.\n",
    "\n",
    "Essa seção foi baseada na [documentação oficial](https://cloud.google.com/pubsub/docs/create-bigquery-subscription?hl=pt-br).\n",
    "\n",
    "Antes de criar a assinatura e inserir os dados, precisamos preparar o BigQuery.\n",
    "Vamos realizar três procedimentos:\n",
    "1. Criar um dataset no BigQuery, o dataset é onde as tabelas ficam agrupadas, como o esquema em bancos relacionais.\n",
    "2. Criar a tabela no dataset do BigQuery.\n",
    "3. Ajustar a permissão do Pub/Sub para conseguir enviar os dados."
   ]
  },
  {
   "cell_type": "markdown",
   "id": "47c403eb-959e-4a40-8952-d6040ce84cc6",
   "metadata": {},
   "source": [
    "Para criação do dataset e da tabela, vamos executar o comando a seguir no [BigQuery Studio](https://console.cloud.google.com/bigquery).\n",
    "\n",
    "Clique no link `Consulta SQL` e cole o código abaixo.\n",
    "\n",
    "![bigquery-studio](imagens-pubsub/img1-bq-studio.png)\n",
    "\n",
    "```sql\n",
    "-- Criação do dataset\n",
    "CREATE SCHEMA IF NOT EXISTS aula_pdm;\n",
    "\n",
    "-- Criação da tabela\n",
    "CREATE TABLE IF NOT EXISTS `aula_pdm.anuncios` (\n",
    "  site                            STRING,\n",
    "  id_link                         INT64,\n",
    "  anuncio_id                      INT64,\n",
    "  descricao                       STRING,\n",
    "  titulo                          STRING,\n",
    "  endereco_completo               STRING,\n",
    "  cep                             STRING,\n",
    "  andar                           STRING,\n",
    "  area_total                      NUMERIC,\n",
    "  area_construida                 NUMERIC,\n",
    "  area_util                       NUMERIC,\n",
    "  qtd_quartos                     INT64,\n",
    "  qtd_suites                      INT64,\n",
    "  qtd_banheiros                   INT64,\n",
    "  qtd_vagas_garagem               INT64,\n",
    "  preco                           NUMERIC,\n",
    "  iptu                            NUMERIC,\n",
    "  coordenadas                     STRING,\n",
    "  link_google_maps                STRING,\n",
    "  print                           STRING,\n",
    "  data_cadastro                   DATETIME,\n",
    "  estado_do_imovel                STRING,\n",
    "  status_do_anuncio               STRING,\n",
    "  id_anuncio_plataforma           INT64,\n",
    "  id_anuncio_externo              INT64,\n",
    "  id                              INT64,\n",
    "  data_atualizacao                DATETIME,\n",
    "  deletado                        STRING,\n",
    "  data_delecao                    DATETIME,\n",
    "  coleta                          STRING,\n",
    "  data_criacao_anuncio_plataforma DATETIME,\n",
    "  caracteristicas                 STRING,\n",
    "  imagens                         STRING\n",
    ")\n",
    "PARTITION BY DATE(data_cadastro)\n",
    ";\n",
    "```\n",
    "\n",
    "Ao inserir o código acima, clique no botão `Executar` ou `Run`, ao finalizar, irá aparecer o status de cada comando executado.\n",
    "Abaixo tem um exemplo de saída.\n",
    "\n",
    "![bigquery-output](imagens-pubsub/img-bq-create-v2.png)"
   ]
  },
  {
   "cell_type": "markdown",
   "id": "e47bef0eb97c826f",
   "metadata": {},
   "source": [
    "## 4. Integração entre BigQuery e Pub/Sub"
   ]
  },
  {
   "cell_type": "markdown",
   "id": "bcf439e92c6bb2ca",
   "metadata": {},
   "source": [
    "Primeiro vamos criar o tópico que irá receber os dados de clientes.\n",
    "O código é praticamente igual ao anterior."
   ]
  },
  {
   "metadata": {
    "editable": true,
    "slideshow": {
     "slide_type": ""
    },
    "tags": []
   },
   "cell_type": "code",
   "outputs": [],
   "execution_count": null,
   "source": [
    "topico_anuncios = \"projects/{project_id}/topics/{topic}\".format(\n",
    "    project_id=project_id,\n",
    "    topic='aula-pdm-anuncios',\n",
    ")\n",
    "topico_anuncios"
   ],
   "id": "7c8be9efc50c2825"
  },
  {
   "cell_type": "code",
   "execution_count": null,
   "id": "fb9d4ee8-9054-4cb0-b62d-b90b317e60d5",
   "metadata": {},
   "outputs": [],
   "source": [
    "publisher = pubsub_v1.PublisherClient()"
   ]
  },
  {
   "cell_type": "code",
   "execution_count": null,
   "id": "00918967-977a-4826-802c-a45ec01fb685",
   "metadata": {},
   "outputs": [],
   "source": [
    "topico_obj = Topic({\n",
    "    \"name\": topico_anuncios,\n",
    "    \"message_retention_duration\": \"259200s\"  # 3 dias\n",
    "})\n",
    "try:\n",
    "    publisher.create_topic(request=topico_obj)\n",
    "except AlreadyExists:\n",
    "    print(f\"O tópico '{topico_anuncios}' já existe\")"
   ]
  },
  {
   "metadata": {},
   "cell_type": "markdown",
   "source": [
    "### 4.1) Permissões do Pub/Sub para o BigQuery\n",
    "\n",
    "Para o Pub/Sub conseguir enviar os dados para o BigQuery, precisamos ajustar as permissões.\n",
    "Execute o código abaixo de dentro do Cloud Shell ou do terminal da sua máquina local.\n",
    "\n",
    "```shell\n",
    "# Obtém o ID do projeto\n",
    "export PROJECT_ID=$(gcloud config get project)\n",
    "\n",
    "# Obtém o número do projeto\n",
    "export PROJECT_NUMBER=$(gcloud projects describe \"$PROJECT_ID\" --format='value(projectNumber)')\n",
    "\n",
    "# Conta de serviço do Pub/Sub\n",
    "export SA=$(echo \"service-$PROJECT_NUMBER@gcp-sa-pubsub.iam.gserviceaccount.com\")\n",
    "\n",
    "# Concede as permissões necessárias\n",
    "gcloud projects add-iam-policy-binding \"$PROJECT_ID\" \\\n",
    "  --member=\"serviceAccount:$SA\" \\\n",
    "  --role=\"roles/bigquery.dataEditor\"\n",
    "\n",
    "gcloud projects add-iam-policy-binding \"$PROJECT_ID\" \\\n",
    "  --member=\"serviceAccount:$SA\" \\\n",
    "  --role=\"roles/storage.admin\"\n",
    "```"
   ],
   "id": "74330dad71a80559"
  },
  {
   "cell_type": "markdown",
   "id": "287f253a-5046-4757-a04f-0a816bdf00f8",
   "metadata": {},
   "source": [
    "### 4.2) Criação de assinaturas pela interface gráfica\n",
    "\n",
    "Antes de criar a assinatura através da interface gráfica, vamos criar um tópico para DLQ para ser utilizado na assinatura."
   ]
  },
  {
   "cell_type": "code",
   "execution_count": null,
   "id": "90488e5c",
   "metadata": {},
   "outputs": [],
   "source": [
    "# Configuração do nome do tópico para DLQ\n",
    "topico_dlq = \"projects/{project_id}/topics/{topic}\".format(\n",
    "    project_id=project_id,\n",
    "    topic='aula-pdm-anuncios-bq-dlq',\n",
    ")\n",
    "topico_dlq\n",
    "try:\n",
    "    # Criação do tópico de DLQ\n",
    "    publisher.create_topic(name=topico_dlq)\n",
    "except AlreadyExists:\n",
    "    print(f\"O tópico '{topico_dlq}' já existe\")"
   ]
  },
  {
   "cell_type": "markdown",
   "id": "2c11064f",
   "metadata": {},
   "source": [
    "![new-subscription](imagens-pubsub/img3-new-sub.png)\n",
    "\n",
    "![create-subscription](imagens-pubsub/img-v2-sub-bq1.png)\n",
    "\n",
    "![create-subscription-2](imagens-pubsub/img-v2-sub-bq2.png)\n",
    "\n",
    "![create-subscription-3](imagens-pubsub/img-v2-sub-bq3.png)"
   ]
  },
  {
   "cell_type": "markdown",
   "id": "d850ed1a",
   "metadata": {},
   "source": [
    "Após a criação, deverá aparecer a tela da assinatura como essa imagem a seguir.\n",
    "Clique no botão `Conceder o papel de editor` ou `Grant Editor Role` para dar permissão para a conta de serviço do Pub/Sub.\n",
    "\n",
    "![subscription-created](imagens-pubsub/img5-sub-dlq-access-pt.png)"
   ]
  },
  {
   "cell_type": "markdown",
   "id": "7eebcbb4-7314-4188-a316-925bbd8cfbeb",
   "metadata": {},
   "source": [
    "### 4.2) Criação de assinaturas através de código python\n",
    "\n",
    "A seguir temos o código para criar uma assinatura do BigQuery assim como fizemos pela interface gráfica."
   ]
  },
  {
   "cell_type": "code",
   "execution_count": null,
   "id": "512c7004-7b7b-4113-8a3c-66c707a96bdd",
   "metadata": {},
   "outputs": [],
   "source": [
    "# Configuração do nome da assinatura\n",
    "assinatura_anuncios_bq = \"projects/{project_id}/subscriptions/{sub}\".format(\n",
    "    project_id=project_id,\n",
    "    sub=\"aula-pdm-anuncios-bq-python\",\n",
    ")\n",
    "assinatura_anuncios_bq"
   ]
  },
  {
   "cell_type": "code",
   "execution_count": null,
   "id": "e09bb6d1-8ae4-4ced-9e44-d9b365380c85",
   "metadata": {},
   "outputs": [],
   "source": [
    "# Configuração do nome do tópico para DLQ\n",
    "topico_dlq = \"projects/{project_id}/topics/{topic}\".format(\n",
    "    project_id=project_id,\n",
    "    topic='aula-pdm-anuncios-bq-dlq',\n",
    ")\n",
    "topico_dlq"
   ]
  },
  {
   "cell_type": "code",
   "execution_count": null,
   "id": "bd97d904-a12e-44eb-ba71-e7c484ad576a",
   "metadata": {},
   "outputs": [],
   "source": [
    "try:\n",
    "    # Criação do tópico de DLQ\n",
    "    publisher.create_topic(name=topico_dlq)\n",
    "except AlreadyExists:\n",
    "    print(f\"O tópico '{topico_dlq}' já existe\")"
   ]
  },
  {
   "cell_type": "code",
   "execution_count": null,
   "id": "f4fa4aa9-8d44-495f-908e-cd1c19756c5f",
   "metadata": {},
   "outputs": [],
   "source": [
    "# Configuração da assinatura\n",
    "anuncios_assinatura_bq = Subscription({\n",
    "    \"name\": assinatura_anuncios_bq,\n",
    "    \"topic\": topico_anuncios,\n",
    "    \"bigquery_config\": BigQueryConfig({\n",
    "        \"table\": f\"{project_id}.aula_pdm.anuncios\",  # nome da tabela no BigQuery\n",
    "        \"use_table_schema\": True,  # flag indicando para utilizar o esquema da tabela\n",
    "        \"drop_unknown_fields\": True  # flag indicando para descartar os campos desconhecidos\n",
    "    }),\n",
    "    \"dead_letter_policy\": DeadLetterPolicy({\n",
    "        \"dead_letter_topic\": topico_dlq\n",
    "    })\n",
    "})"
   ]
  },
  {
   "cell_type": "code",
   "execution_count": null,
   "id": "0605a21c-a049-4497-b4e1-6a91513cc7dc",
   "metadata": {},
   "outputs": [],
   "source": [
    "try:\n",
    "    subscriber.create_subscription(\n",
    "        request=anuncios_assinatura_bq\n",
    "    )\n",
    "except AlreadyExists:\n",
    "    print(f\"A assinatura {assinatura_anuncios_bq} já existe\")"
   ]
  },
  {
   "cell_type": "code",
   "execution_count": null,
   "id": "b5a246dc-3460-410a-8999-9dc4ec70f5b6",
   "metadata": {},
   "outputs": [],
   "source": []
  },
  {
   "cell_type": "markdown",
   "id": "3df972a0-0340-49bb-a424-0b287139b2bd",
   "metadata": {},
   "source": [
    "### Exercício prático: Como seria uma assinatura para utilizar o esquema do tópico?\n",
    "\n",
    "O Pub/Sub tem uma funcionalidade para criar esquemas e depois os atribuir a um ou mais tópicos.\n",
    "Podemos definir os esquemas em dois formatos, [Avro Schema](https://avro.apache.org/docs/1.11.1/specification/) ou Protobuf.\n",
    "Abaixo temos o esquema para algumas colunas da tabela anúncios:\n",
    "\n",
    "```json\n",
    "{\n",
    " \"type\" : \"record\",\n",
    " \"name\" : \"Avro\",\n",
    " \"fields\" : [\n",
    "    {\n",
    "      \"name\": \"site\",\n",
    "      \"type\": \"string\"\n",
    "    },\n",
    "    {\n",
    "      \"name\": \"id_link\",\n",
    "      \"type\": \"int\"\n",
    "    },\n",
    "    {\n",
    "      \"name\": \"anuncio_id\",\n",
    "      \"type\": \"int\"\n",
    "    },\n",
    "    {\n",
    "      \"name\": \"descricao\",\n",
    "      \"type\": \"string\"\n",
    "    },\n",
    "    {\n",
    "      \"name\": \"titulo\",\n",
    "      \"type\": \"string\"\n",
    "    },\n",
    "    {\n",
    "      \"name\": \"area_total\",\n",
    "      \"type\": \"float\"\n",
    "    },\n",
    "    {\n",
    "      \"name\": \"qtd_quartos\",\n",
    "      \"type\": \"int\"\n",
    "    },\n",
    "    {\n",
    "      \"name\": \"preco\",\n",
    "      \"type\": \"float\"\n",
    "    },\n",
    "    {\n",
    "      \"name\": \"data_cadastro\",\n",
    "      \"type\": \"int\",\n",
    "      \"logicalType\": \"date\"\n",
    "    }\n",
    "  ]\n",
    "}\n",
    "```\n",
    "\n",
    "Tente criar o esquema acima e depois crie uma assinatura que envia os dados para o BigQuery utilizando o esquema do tópico.\n",
    "\n",
    "Execute a consulta abaixo para criar uma tabela no BigQuery.\n",
    "```sql\n",
    "CREATE TABLE aula_pdm.anuncios_raw(\n",
    "    data JSON\n",
    ");\n",
    "```"
   ]
  },
  {
   "cell_type": "markdown",
   "id": "9ef7180b-258c-4a51-b698-efe515f576cc",
   "metadata": {},
   "source": [
    "## 5. Envio de mensagens para o tópico"
   ]
  },
  {
   "metadata": {},
   "cell_type": "markdown",
   "source": "Vamos abrir o notebook `publicacao-anuncios.ipynb` e executar o código para enviar os dados para o tópico `aula-pdm-anuncios`.",
   "id": "393a27c58962ef3b"
  },
  {
   "cell_type": "markdown",
   "id": "2667dbc1-02e1-48d3-b864-63b251dbf2c2",
   "metadata": {},
   "source": [
    "## 6. Assinatura do Google Cloud Storage (GCS)\n",
    "\n",
    "Existe um tipo de assinatura que envia os dados para o GCS em formato Avro. Essa funcionalidade pode ser interessante quando você tem um grande volume de dados ou quer economizar ou não precisa acessar os dados pelo BigQuery.\n",
    "\n",
    "Essa seção foi baseada na [documentação oficial](https://cloud.google.com/pubsub/docs/create-cloudstorage-subscription?hl=pt-br).\n",
    "\n",
    "### 6.1. Criação do bucket no GCS\n",
    "\n",
    "Para criar uma assinatura do GCS é necessário criar um bucket e ajustar as permissões do mesmo.\n",
    "Vamos criar um bucket pela [interface da GCP](https://console.cloud.google.com/storage/browser).\n",
    "\n",
    "![create-bucket](imagens-pubsub/img6-create-bucket.png)"
   ]
  },
  {
   "cell_type": "markdown",
   "id": "9677f843-f771-4e5a-895a-fefb0bfdac03",
   "metadata": {},
   "source": [
    "### 6.2. Criação da assinatura pela interface da GCP\n",
    "\n",
    "Agora vamos criar a assinatura no Pub/Sub através da interface gráfica.\n",
    "\n",
    "![create-subscription-gcs](imagens-pubsub/img8-sub-gcs.png)\n",
    "\n",
    "![create-subscription-gcs-2](imagens-pubsub/img9-sub-gcs-file.png)"
   ]
  },
  {
   "cell_type": "markdown",
   "id": "0710e119-d3d8-4a48-b0ea-cfbd1c1ef69f",
   "metadata": {},
   "source": []
  }
 ],
 "metadata": {
  "kernelspec": {
   "display_name": "Python 3 (ipykernel)",
   "language": "python",
   "name": "python3"
  },
  "language_info": {
   "codemirror_mode": {
    "name": "ipython",
    "version": 3
   },
   "file_extension": ".py",
   "mimetype": "text/x-python",
   "name": "python",
   "nbconvert_exporter": "python",
   "pygments_lexer": "ipython3",
   "version": "3.10.18"
  }
 },
 "nbformat": 4,
 "nbformat_minor": 5
}
