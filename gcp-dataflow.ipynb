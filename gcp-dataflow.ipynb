{
 "cells": [
  {
   "cell_type": "markdown",
   "id": "acadfc033be0b6d8",
   "metadata": {},
   "source": [
    "# GCP Dataflow\n",
    "\n",
    "O Dataflow é um serviço de processamento de dados em lote e em tempo real, que permite criar pipelines de dados escaláveis e eficientes. Ele é baseado no modelo de programação Apache Beam, que permite escrever código uma vez e executá-lo em diferentes ambientes de execução, como o Dataflow, Spark e Flink.\n",
    "\n",
    "Para maiores informações, consulte a [documentação oficial do Dataflow](https://cloud.google.com/dataflow/docs)."
   ]
  },
  {
   "cell_type": "markdown",
   "id": "70db33b9fc9e9c1a",
   "metadata": {},
   "source": [
    "## 1. Inicialização do ambiente Dataproc\n",
    "\n",
    "O primeiro passo é iniciar um cluster do Google Cloud Dataproc, que será utilizado para executar os notebooks.\n",
    "\n",
    "### 1.1. Criando um cluster Dataproc com o Cloud Shell\n",
    "\n",
    "Existem várias formas de iniciar um cluster do Dataproc, uma das formas mais simples, é utilizar o comando `gcloud` no terminal.\n",
    "\n",
    "```bash\n",
    "gcloud dataproc clusters create $USER \\\n",
    "    --region us-central1 \\\n",
    "    --zone us-central1-a \\\n",
    "    --subnet=default \\\n",
    "    --delete-max-idle=120m \\\n",
    "    --single-node \\\n",
    "    --master-machine-type n2-standard-4 \\\n",
    "    --master-boot-disk-size 50GB \\\n",
    "    --image-version 2.2-debian12 \\\n",
    "    --enable-component-gateway \\\n",
    "    --optional-components=JUPYTER,ICEBERG \\\n",
    "    --project pdm-savio\n",
    "```\n",
    "\n",
    "Caso prefira, você pode rodar esse comando no Google Cloud Shell, para acessá-lo, clique no ícone do terminal no canto superior direito do console do GCP.\n",
    "Após clicar no ícone, uma janela irá se abrir na parte inferior da tela, onde você poderá executar o comando acima para criar o cluster do Dataproc.\n",
    "Abaixo tem uma imagem ilustrando onde clicar para abrir o Cloud Shell.\n",
    "\n",
    "![Cloud Shell](imagens-dataflow/img2-cloud-shell.png)"
   ]
  },
  {
   "cell_type": "markdown",
   "id": "7a9ca4a21b357e54",
   "metadata": {},
   "source": [
    "## 2. Copiando o notebook para o Dataproc\n",
    "\n",
    "Esse notebook está disponível no repositório do GitHub: [robertogyn19/aula-pdm-pubsub](https://github.com/robertogyn19/aula-pdm-pubsub).\n",
    "Para copiar o notebook para o Dataproc, você pode fazer o clone do projeto para dentro do cluster, utilizando o comando abaixo:\n",
    "```bash\n",
    "git clone https://github.com/robertogyn19/aula-pdm-pubsub.git\n",
    "```\n",
    "\n",
    "Agora sim, você também tem acesso a todas as instruções para essa aula."
   ]
  },
  {
   "cell_type": "markdown",
   "id": "33900a069ff2dbfa",
   "metadata": {},
   "source": [
    "## 3. Apache Beam - Exemplo básico\n",
    "\n",
    "Para entender como funciona o Dataflow, vamos criar um exemplo básico utilizando o Apache Beam.\n",
    "Instale o pacote `apache-beam`:\n",
    "```bash\n",
    "pip install apache-beam[gcp]\n",
    "```\n",
    "\n",
    "O pacote `apache-beam[gcp]` inclui as dependências necessárias para executar pipelines no Google Cloud Dataflow."
   ]
  },
  {
   "cell_type": "code",
   "execution_count": 2,
   "id": "initial_id",
   "metadata": {
    "ExecuteTime": {
     "end_time": "2025-08-16T19:32:56.719207Z",
     "start_time": "2025-08-16T19:32:54.939183Z"
    },
    "collapsed": true,
    "jupyter": {
     "outputs_hidden": true
    }
   },
   "outputs": [
    {
     "name": "stdout",
     "output_type": "stream",
     "text": [
      "Requirement already satisfied: apache-beam[gcp] in /home/roberto/.conda/envs/aula-pdm/lib/python3.10/site-packages (2.67.0)\r\n",
      "Requirement already satisfied: crcmod<2.0,>=1.7 in /home/roberto/.conda/envs/aula-pdm/lib/python3.10/site-packages (from apache-beam[gcp]) (1.7)\r\n",
      "Requirement already satisfied: orjson<4,>=3.9.7 in /home/roberto/.conda/envs/aula-pdm/lib/python3.10/site-packages (from apache-beam[gcp]) (3.11.2)\r\n",
      "Requirement already satisfied: dill<0.3.2,>=0.3.1.1 in /home/roberto/.conda/envs/aula-pdm/lib/python3.10/site-packages (from apache-beam[gcp]) (0.3.1.1)\r\n",
      "Requirement already satisfied: fastavro<2,>=0.23.6 in /home/roberto/.conda/envs/aula-pdm/lib/python3.10/site-packages (from apache-beam[gcp]) (1.12.0)\r\n",
      "Requirement already satisfied: fasteners<1.0,>=0.3 in /home/roberto/.conda/envs/aula-pdm/lib/python3.10/site-packages (from apache-beam[gcp]) (0.20)\r\n",
      "Requirement already satisfied: grpcio!=1.48.0,!=1.59.*,!=1.60.*,!=1.61.*,!=1.62.0,!=1.62.1,<1.66.0,<2,>=1.33.1 in /home/roberto/.conda/envs/aula-pdm/lib/python3.10/site-packages (from apache-beam[gcp]) (1.65.5)\r\n",
      "Requirement already satisfied: hdfs<3.0.0,>=2.1.0 in /home/roberto/.conda/envs/aula-pdm/lib/python3.10/site-packages (from apache-beam[gcp]) (2.7.3)\r\n",
      "Requirement already satisfied: httplib2<0.23.0,>=0.8 in /home/roberto/.conda/envs/aula-pdm/lib/python3.10/site-packages (from apache-beam[gcp]) (0.22.0)\r\n",
      "Requirement already satisfied: jsonschema<5.0.0,>=4.0.0 in /home/roberto/.conda/envs/aula-pdm/lib/python3.10/site-packages (from apache-beam[gcp]) (4.25.0)\r\n",
      "Requirement already satisfied: jsonpickle<4.0.0,>=3.0.0 in /home/roberto/.conda/envs/aula-pdm/lib/python3.10/site-packages (from apache-beam[gcp]) (3.4.2)\r\n",
      "Requirement already satisfied: numpy<2.3.0,>=1.14.3 in /home/roberto/.conda/envs/aula-pdm/lib/python3.10/site-packages (from apache-beam[gcp]) (2.2.6)\r\n",
      "Requirement already satisfied: objsize<0.8.0,>=0.6.1 in /home/roberto/.conda/envs/aula-pdm/lib/python3.10/site-packages (from apache-beam[gcp]) (0.7.1)\r\n",
      "Requirement already satisfied: packaging>=22.0 in /home/roberto/.conda/envs/aula-pdm/lib/python3.10/site-packages (from apache-beam[gcp]) (25.0)\r\n",
      "Requirement already satisfied: pymongo<5.0.0,>=3.8.0 in /home/roberto/.conda/envs/aula-pdm/lib/python3.10/site-packages (from apache-beam[gcp]) (4.14.0)\r\n",
      "Requirement already satisfied: proto-plus<2,>=1.7.1 in /home/roberto/.conda/envs/aula-pdm/lib/python3.10/site-packages (from apache-beam[gcp]) (1.26.1)\r\n",
      "Requirement already satisfied: protobuf!=4.0.*,!=4.21.*,!=4.22.0,!=4.23.*,!=4.24.*,<6.0.0.dev0,>=3.20.3 in /home/roberto/.conda/envs/aula-pdm/lib/python3.10/site-packages (from apache-beam[gcp]) (5.29.5)\r\n",
      "Requirement already satisfied: pydot<2,>=1.2.0 in /home/roberto/.conda/envs/aula-pdm/lib/python3.10/site-packages (from apache-beam[gcp]) (1.4.2)\r\n",
      "Requirement already satisfied: python-dateutil<3,>=2.8.0 in /home/roberto/.conda/envs/aula-pdm/lib/python3.10/site-packages (from apache-beam[gcp]) (2.9.0.post0)\r\n",
      "Requirement already satisfied: pytz>=2018.3 in /home/roberto/.conda/envs/aula-pdm/lib/python3.10/site-packages (from apache-beam[gcp]) (2025.2)\r\n",
      "Requirement already satisfied: redis<6,>=5.0.0 in /home/roberto/.conda/envs/aula-pdm/lib/python3.10/site-packages (from apache-beam[gcp]) (5.3.1)\r\n",
      "Requirement already satisfied: regex>=2020.6.8 in /home/roberto/.conda/envs/aula-pdm/lib/python3.10/site-packages (from apache-beam[gcp]) (2025.7.34)\r\n",
      "Requirement already satisfied: requests<3.0.0,>=2.32.4 in /home/roberto/.conda/envs/aula-pdm/lib/python3.10/site-packages (from apache-beam[gcp]) (2.32.4)\r\n",
      "Requirement already satisfied: sortedcontainers>=2.4.0 in /home/roberto/.conda/envs/aula-pdm/lib/python3.10/site-packages (from apache-beam[gcp]) (2.4.0)\r\n",
      "Requirement already satisfied: typing-extensions>=3.7.0 in /home/roberto/.conda/envs/aula-pdm/lib/python3.10/site-packages (from apache-beam[gcp]) (4.14.1)\r\n",
      "Requirement already satisfied: zstandard<1,>=0.18.0 in /home/roberto/.conda/envs/aula-pdm/lib/python3.10/site-packages (from apache-beam[gcp]) (0.23.0)\r\n",
      "Requirement already satisfied: pyyaml<7.0.0,>=3.12 in /home/roberto/.conda/envs/aula-pdm/lib/python3.10/site-packages (from apache-beam[gcp]) (6.0.2)\r\n",
      "Requirement already satisfied: pymilvus<3.0.0,>=2.5.10 in /home/roberto/.conda/envs/aula-pdm/lib/python3.10/site-packages (from apache-beam[gcp]) (2.5.14)\r\n",
      "Requirement already satisfied: pyarrow<19.0.0,>=3.0.0 in /home/roberto/.conda/envs/aula-pdm/lib/python3.10/site-packages (from apache-beam[gcp]) (18.1.0)\r\n",
      "Requirement already satisfied: pyarrow-hotfix<1 in /home/roberto/.conda/envs/aula-pdm/lib/python3.10/site-packages (from apache-beam[gcp]) (0.7)\r\n",
      "Requirement already satisfied: cachetools<7,>=3.1.0 in /home/roberto/.conda/envs/aula-pdm/lib/python3.10/site-packages (from apache-beam[gcp]) (5.5.2)\r\n",
      "Requirement already satisfied: google-api-core<3,>=2.0.0 in /home/roberto/.conda/envs/aula-pdm/lib/python3.10/site-packages (from apache-beam[gcp]) (2.25.1)\r\n",
      "Requirement already satisfied: google-apitools<0.5.32,>=0.5.31 in /home/roberto/.conda/envs/aula-pdm/lib/python3.10/site-packages (from apache-beam[gcp]) (0.5.31)\r\n",
      "Requirement already satisfied: google-auth<3,>=1.18.0 in /home/roberto/.conda/envs/aula-pdm/lib/python3.10/site-packages (from apache-beam[gcp]) (2.40.3)\r\n",
      "Requirement already satisfied: google-auth-httplib2<0.3.0,>=0.1.0 in /home/roberto/.conda/envs/aula-pdm/lib/python3.10/site-packages (from apache-beam[gcp]) (0.2.0)\r\n",
      "Requirement already satisfied: google-cloud-datastore<3,>=2.0.0 in /home/roberto/.conda/envs/aula-pdm/lib/python3.10/site-packages (from apache-beam[gcp]) (2.21.0)\r\n",
      "Requirement already satisfied: google-cloud-pubsub<3,>=2.1.0 in /home/roberto/.conda/envs/aula-pdm/lib/python3.10/site-packages (from apache-beam[gcp]) (2.31.1)\r\n",
      "Requirement already satisfied: google-cloud-pubsublite<2,>=1.2.0 in /home/roberto/.conda/envs/aula-pdm/lib/python3.10/site-packages (from apache-beam[gcp]) (1.12.0)\r\n",
      "Requirement already satisfied: google-cloud-storage<3,>=2.18.2 in /home/roberto/.conda/envs/aula-pdm/lib/python3.10/site-packages (from apache-beam[gcp]) (2.19.0)\r\n",
      "Requirement already satisfied: google-cloud-bigquery<4,>=2.0.0 in /home/roberto/.conda/envs/aula-pdm/lib/python3.10/site-packages (from apache-beam[gcp]) (3.35.1)\r\n",
      "Requirement already satisfied: google-cloud-bigquery-storage<3,>=2.6.3 in /home/roberto/.conda/envs/aula-pdm/lib/python3.10/site-packages (from apache-beam[gcp]) (2.32.0)\r\n",
      "Requirement already satisfied: google-cloud-core<3,>=2.0.0 in /home/roberto/.conda/envs/aula-pdm/lib/python3.10/site-packages (from apache-beam[gcp]) (2.4.3)\r\n",
      "Requirement already satisfied: google-cloud-bigtable<3,>=2.19.0 in /home/roberto/.conda/envs/aula-pdm/lib/python3.10/site-packages (from apache-beam[gcp]) (2.32.0)\r\n",
      "Requirement already satisfied: google-cloud-spanner<4,>=3.0.0 in /home/roberto/.conda/envs/aula-pdm/lib/python3.10/site-packages (from apache-beam[gcp]) (3.57.0)\r\n",
      "Requirement already satisfied: google-cloud-dlp<4,>=3.0.0 in /home/roberto/.conda/envs/aula-pdm/lib/python3.10/site-packages (from apache-beam[gcp]) (3.31.0)\r\n",
      "Requirement already satisfied: google-cloud-language<3,>=2.0 in /home/roberto/.conda/envs/aula-pdm/lib/python3.10/site-packages (from apache-beam[gcp]) (2.17.2)\r\n",
      "Requirement already satisfied: google-cloud-videointelligence<3,>=2.0 in /home/roberto/.conda/envs/aula-pdm/lib/python3.10/site-packages (from apache-beam[gcp]) (2.16.2)\r\n",
      "Requirement already satisfied: google-cloud-vision<4,>=2 in /home/roberto/.conda/envs/aula-pdm/lib/python3.10/site-packages (from apache-beam[gcp]) (3.10.2)\r\n",
      "Requirement already satisfied: google-cloud-recommendations-ai<0.11.0,>=0.1.0 in /home/roberto/.conda/envs/aula-pdm/lib/python3.10/site-packages (from apache-beam[gcp]) (0.10.18)\r\n",
      "Requirement already satisfied: google-cloud-aiplatform<2.0,>=1.26.0 in /home/roberto/.conda/envs/aula-pdm/lib/python3.10/site-packages (from apache-beam[gcp]) (1.109.0)\r\n",
      "Requirement already satisfied: keyrings.google-artifactregistry-auth in /home/roberto/.conda/envs/aula-pdm/lib/python3.10/site-packages (from apache-beam[gcp]) (1.1.2)\r\n",
      "Requirement already satisfied: googleapis-common-protos<2.0.0,>=1.56.2 in /home/roberto/.conda/envs/aula-pdm/lib/python3.10/site-packages (from google-api-core<3,>=2.0.0->apache-beam[gcp]) (1.70.0)\r\n",
      "Requirement already satisfied: oauth2client>=1.4.12 in /home/roberto/.conda/envs/aula-pdm/lib/python3.10/site-packages (from google-apitools<0.5.32,>=0.5.31->apache-beam[gcp]) (4.1.3)\r\n",
      "Requirement already satisfied: six>=1.12.0 in /home/roberto/.conda/envs/aula-pdm/lib/python3.10/site-packages (from google-apitools<0.5.32,>=0.5.31->apache-beam[gcp]) (1.17.0)\r\n",
      "Requirement already satisfied: pyasn1-modules>=0.2.1 in /home/roberto/.conda/envs/aula-pdm/lib/python3.10/site-packages (from google-auth<3,>=1.18.0->apache-beam[gcp]) (0.4.2)\r\n",
      "Requirement already satisfied: rsa<5,>=3.1.4 in /home/roberto/.conda/envs/aula-pdm/lib/python3.10/site-packages (from google-auth<3,>=1.18.0->apache-beam[gcp]) (4.9.1)\r\n",
      "Requirement already satisfied: google-cloud-resource-manager<3.0.0,>=1.3.3 in /home/roberto/.conda/envs/aula-pdm/lib/python3.10/site-packages (from google-cloud-aiplatform<2.0,>=1.26.0->apache-beam[gcp]) (1.14.2)\r\n",
      "Requirement already satisfied: shapely<3.0.0 in /home/roberto/.conda/envs/aula-pdm/lib/python3.10/site-packages (from google-cloud-aiplatform<2.0,>=1.26.0->apache-beam[gcp]) (2.1.1)\r\n",
      "Requirement already satisfied: google-genai<2.0.0,>=1.0.0 in /home/roberto/.conda/envs/aula-pdm/lib/python3.10/site-packages (from google-cloud-aiplatform<2.0,>=1.26.0->apache-beam[gcp]) (1.30.0)\r\n",
      "Requirement already satisfied: pydantic<3 in /home/roberto/.conda/envs/aula-pdm/lib/python3.10/site-packages (from google-cloud-aiplatform<2.0,>=1.26.0->apache-beam[gcp]) (2.11.7)\r\n",
      "Requirement already satisfied: docstring_parser<1 in /home/roberto/.conda/envs/aula-pdm/lib/python3.10/site-packages (from google-cloud-aiplatform<2.0,>=1.26.0->apache-beam[gcp]) (0.17.0)\r\n",
      "Requirement already satisfied: grpcio-status<2.0.0,>=1.33.2 in /home/roberto/.conda/envs/aula-pdm/lib/python3.10/site-packages (from google-api-core[grpc]!=2.0.*,!=2.1.*,!=2.2.*,!=2.3.*,!=2.4.*,!=2.5.*,!=2.6.*,!=2.7.*,<3.0.0,>=1.34.1->google-cloud-aiplatform<2.0,>=1.26.0->apache-beam[gcp]) (1.65.5)\r\n",
      "Requirement already satisfied: google-resumable-media<3.0.0,>=2.0.0 in /home/roberto/.conda/envs/aula-pdm/lib/python3.10/site-packages (from google-cloud-bigquery<4,>=2.0.0->apache-beam[gcp]) (2.7.2)\r\n",
      "Requirement already satisfied: grpc-google-iam-v1<1.0.0,>=0.12.4 in /home/roberto/.conda/envs/aula-pdm/lib/python3.10/site-packages (from google-cloud-bigtable<3,>=2.19.0->apache-beam[gcp]) (0.14.2)\r\n",
      "Requirement already satisfied: google-crc32c<2.0.0dev,>=1.5.0 in /home/roberto/.conda/envs/aula-pdm/lib/python3.10/site-packages (from google-cloud-bigtable<3,>=2.19.0->apache-beam[gcp]) (1.7.1)\r\n",
      "Requirement already satisfied: opentelemetry-api>=1.27.0 in /home/roberto/.conda/envs/aula-pdm/lib/python3.10/site-packages (from google-cloud-pubsub<3,>=2.1.0->apache-beam[gcp]) (1.36.0)\r\n",
      "Requirement already satisfied: opentelemetry-sdk>=1.27.0 in /home/roberto/.conda/envs/aula-pdm/lib/python3.10/site-packages (from google-cloud-pubsub<3,>=2.1.0->apache-beam[gcp]) (1.36.0)\r\n",
      "Requirement already satisfied: overrides<8.0.0,>=6.0.1 in /home/roberto/.conda/envs/aula-pdm/lib/python3.10/site-packages (from google-cloud-pubsublite<2,>=1.2.0->apache-beam[gcp]) (7.7.0)\r\n",
      "Requirement already satisfied: sqlparse>=0.4.4 in /home/roberto/.conda/envs/aula-pdm/lib/python3.10/site-packages (from google-cloud-spanner<4,>=3.0.0->apache-beam[gcp]) (0.5.3)\r\n",
      "Requirement already satisfied: grpc-interceptor>=0.15.4 in /home/roberto/.conda/envs/aula-pdm/lib/python3.10/site-packages (from google-cloud-spanner<4,>=3.0.0->apache-beam[gcp]) (0.15.4)\r\n",
      "Requirement already satisfied: anyio<5.0.0,>=4.8.0 in /home/roberto/.conda/envs/aula-pdm/lib/python3.10/site-packages (from google-genai<2.0.0,>=1.0.0->google-cloud-aiplatform<2.0,>=1.26.0->apache-beam[gcp]) (4.10.0)\r\n",
      "Requirement already satisfied: httpx<1.0.0,>=0.28.1 in /home/roberto/.conda/envs/aula-pdm/lib/python3.10/site-packages (from google-genai<2.0.0,>=1.0.0->google-cloud-aiplatform<2.0,>=1.26.0->apache-beam[gcp]) (0.28.1)\r\n",
      "Requirement already satisfied: tenacity<9.2.0,>=8.2.3 in /home/roberto/.conda/envs/aula-pdm/lib/python3.10/site-packages (from google-genai<2.0.0,>=1.0.0->google-cloud-aiplatform<2.0,>=1.26.0->apache-beam[gcp]) (9.1.2)\r\n",
      "Requirement already satisfied: websockets<15.1.0,>=13.0.0 in /home/roberto/.conda/envs/aula-pdm/lib/python3.10/site-packages (from google-genai<2.0.0,>=1.0.0->google-cloud-aiplatform<2.0,>=1.26.0->apache-beam[gcp]) (15.0.1)\r\n",
      "Requirement already satisfied: exceptiongroup>=1.0.2 in /home/roberto/.conda/envs/aula-pdm/lib/python3.10/site-packages (from anyio<5.0.0,>=4.8.0->google-genai<2.0.0,>=1.0.0->google-cloud-aiplatform<2.0,>=1.26.0->apache-beam[gcp]) (1.3.0)\r\n",
      "Requirement already satisfied: idna>=2.8 in /home/roberto/.conda/envs/aula-pdm/lib/python3.10/site-packages (from anyio<5.0.0,>=4.8.0->google-genai<2.0.0,>=1.0.0->google-cloud-aiplatform<2.0,>=1.26.0->apache-beam[gcp]) (3.10)\r\n",
      "Requirement already satisfied: sniffio>=1.1 in /home/roberto/.conda/envs/aula-pdm/lib/python3.10/site-packages (from anyio<5.0.0,>=4.8.0->google-genai<2.0.0,>=1.0.0->google-cloud-aiplatform<2.0,>=1.26.0->apache-beam[gcp]) (1.3.1)\r\n",
      "Requirement already satisfied: docopt in /home/roberto/.conda/envs/aula-pdm/lib/python3.10/site-packages (from hdfs<3.0.0,>=2.1.0->apache-beam[gcp]) (0.6.2)\r\n",
      "Requirement already satisfied: pyparsing!=3.0.0,!=3.0.1,!=3.0.2,!=3.0.3,<4,>=2.4.2 in /home/roberto/.conda/envs/aula-pdm/lib/python3.10/site-packages (from httplib2<0.23.0,>=0.8->apache-beam[gcp]) (3.2.3)\r\n",
      "Requirement already satisfied: certifi in /home/roberto/.conda/envs/aula-pdm/lib/python3.10/site-packages (from httpx<1.0.0,>=0.28.1->google-genai<2.0.0,>=1.0.0->google-cloud-aiplatform<2.0,>=1.26.0->apache-beam[gcp]) (2025.8.3)\r\n",
      "Requirement already satisfied: httpcore==1.* in /home/roberto/.conda/envs/aula-pdm/lib/python3.10/site-packages (from httpx<1.0.0,>=0.28.1->google-genai<2.0.0,>=1.0.0->google-cloud-aiplatform<2.0,>=1.26.0->apache-beam[gcp]) (1.0.9)\r\n",
      "Requirement already satisfied: h11>=0.16 in /home/roberto/.conda/envs/aula-pdm/lib/python3.10/site-packages (from httpcore==1.*->httpx<1.0.0,>=0.28.1->google-genai<2.0.0,>=1.0.0->google-cloud-aiplatform<2.0,>=1.26.0->apache-beam[gcp]) (0.16.0)\r\n",
      "Requirement already satisfied: attrs>=22.2.0 in /home/roberto/.conda/envs/aula-pdm/lib/python3.10/site-packages (from jsonschema<5.0.0,>=4.0.0->apache-beam[gcp]) (25.3.0)\r\n",
      "Requirement already satisfied: jsonschema-specifications>=2023.03.6 in /home/roberto/.conda/envs/aula-pdm/lib/python3.10/site-packages (from jsonschema<5.0.0,>=4.0.0->apache-beam[gcp]) (2025.4.1)\r\n",
      "Requirement already satisfied: referencing>=0.28.4 in /home/roberto/.conda/envs/aula-pdm/lib/python3.10/site-packages (from jsonschema<5.0.0,>=4.0.0->apache-beam[gcp]) (0.36.2)\r\n",
      "Requirement already satisfied: rpds-py>=0.7.1 in /home/roberto/.conda/envs/aula-pdm/lib/python3.10/site-packages (from jsonschema<5.0.0,>=4.0.0->apache-beam[gcp]) (0.27.0)\r\n",
      "Requirement already satisfied: annotated-types>=0.6.0 in /home/roberto/.conda/envs/aula-pdm/lib/python3.10/site-packages (from pydantic<3->google-cloud-aiplatform<2.0,>=1.26.0->apache-beam[gcp]) (0.7.0)\r\n",
      "Requirement already satisfied: pydantic-core==2.33.2 in /home/roberto/.conda/envs/aula-pdm/lib/python3.10/site-packages (from pydantic<3->google-cloud-aiplatform<2.0,>=1.26.0->apache-beam[gcp]) (2.33.2)\r\n",
      "Requirement already satisfied: typing-inspection>=0.4.0 in /home/roberto/.conda/envs/aula-pdm/lib/python3.10/site-packages (from pydantic<3->google-cloud-aiplatform<2.0,>=1.26.0->apache-beam[gcp]) (0.4.1)\r\n",
      "Requirement already satisfied: setuptools>69 in /home/roberto/.conda/envs/aula-pdm/lib/python3.10/site-packages (from pymilvus<3.0.0,>=2.5.10->apache-beam[gcp]) (78.1.1)\r\n",
      "Requirement already satisfied: python-dotenv<2.0.0,>=1.0.1 in /home/roberto/.conda/envs/aula-pdm/lib/python3.10/site-packages (from pymilvus<3.0.0,>=2.5.10->apache-beam[gcp]) (1.1.1)\r\n",
      "Requirement already satisfied: ujson>=2.0.0 in /home/roberto/.conda/envs/aula-pdm/lib/python3.10/site-packages (from pymilvus<3.0.0,>=2.5.10->apache-beam[gcp]) (5.10.0)\r\n",
      "Requirement already satisfied: pandas>=1.2.4 in /home/roberto/.conda/envs/aula-pdm/lib/python3.10/site-packages (from pymilvus<3.0.0,>=2.5.10->apache-beam[gcp]) (2.3.1)\r\n",
      "Requirement already satisfied: milvus-lite>=2.4.0 in /home/roberto/.conda/envs/aula-pdm/lib/python3.10/site-packages (from pymilvus<3.0.0,>=2.5.10->apache-beam[gcp]) (2.5.1)\r\n",
      "Requirement already satisfied: dnspython<3.0.0,>=1.16.0 in /home/roberto/.conda/envs/aula-pdm/lib/python3.10/site-packages (from pymongo<5.0.0,>=3.8.0->apache-beam[gcp]) (2.7.0)\r\n",
      "Requirement already satisfied: PyJWT>=2.9.0 in /home/roberto/.conda/envs/aula-pdm/lib/python3.10/site-packages (from redis<6,>=5.0.0->apache-beam[gcp]) (2.10.1)\r\n",
      "Requirement already satisfied: async-timeout>=4.0.3 in /home/roberto/.conda/envs/aula-pdm/lib/python3.10/site-packages (from redis<6,>=5.0.0->apache-beam[gcp]) (5.0.1)\r\n",
      "Requirement already satisfied: charset_normalizer<4,>=2 in /home/roberto/.conda/envs/aula-pdm/lib/python3.10/site-packages (from requests<3.0.0,>=2.32.4->apache-beam[gcp]) (3.4.3)\r\n",
      "Requirement already satisfied: urllib3<3,>=1.21.1 in /home/roberto/.conda/envs/aula-pdm/lib/python3.10/site-packages (from requests<3.0.0,>=2.32.4->apache-beam[gcp]) (2.5.0)\r\n",
      "Requirement already satisfied: pyasn1>=0.1.3 in /home/roberto/.conda/envs/aula-pdm/lib/python3.10/site-packages (from rsa<5,>=3.1.4->google-auth<3,>=1.18.0->apache-beam[gcp]) (0.6.1)\r\n",
      "Requirement already satisfied: tqdm in /home/roberto/.conda/envs/aula-pdm/lib/python3.10/site-packages (from milvus-lite>=2.4.0->pymilvus<3.0.0,>=2.5.10->apache-beam[gcp]) (4.67.1)\r\n",
      "Requirement already satisfied: importlib-metadata<8.8.0,>=6.0 in /home/roberto/.conda/envs/aula-pdm/lib/python3.10/site-packages (from opentelemetry-api>=1.27.0->google-cloud-pubsub<3,>=2.1.0->apache-beam[gcp]) (8.7.0)\r\n",
      "Requirement already satisfied: zipp>=3.20 in /home/roberto/.conda/envs/aula-pdm/lib/python3.10/site-packages (from importlib-metadata<8.8.0,>=6.0->opentelemetry-api>=1.27.0->google-cloud-pubsub<3,>=2.1.0->apache-beam[gcp]) (3.23.0)\r\n",
      "Requirement already satisfied: opentelemetry-semantic-conventions==0.57b0 in /home/roberto/.conda/envs/aula-pdm/lib/python3.10/site-packages (from opentelemetry-sdk>=1.27.0->google-cloud-pubsub<3,>=2.1.0->apache-beam[gcp]) (0.57b0)\r\n",
      "Requirement already satisfied: tzdata>=2022.7 in /home/roberto/.conda/envs/aula-pdm/lib/python3.10/site-packages (from pandas>=1.2.4->pymilvus<3.0.0,>=2.5.10->apache-beam[gcp]) (2025.2)\r\n",
      "Requirement already satisfied: keyring in /home/roberto/.conda/envs/aula-pdm/lib/python3.10/site-packages (from keyrings.google-artifactregistry-auth->apache-beam[gcp]) (25.6.0)\r\n",
      "Requirement already satisfied: pluggy in /home/roberto/.conda/envs/aula-pdm/lib/python3.10/site-packages (from keyrings.google-artifactregistry-auth->apache-beam[gcp]) (1.6.0)\r\n",
      "Requirement already satisfied: SecretStorage>=3.2 in /home/roberto/.conda/envs/aula-pdm/lib/python3.10/site-packages (from keyring->keyrings.google-artifactregistry-auth->apache-beam[gcp]) (3.3.3)\r\n",
      "Requirement already satisfied: jeepney>=0.4.2 in /home/roberto/.conda/envs/aula-pdm/lib/python3.10/site-packages (from keyring->keyrings.google-artifactregistry-auth->apache-beam[gcp]) (0.9.0)\r\n",
      "Requirement already satisfied: jaraco.classes in /home/roberto/.conda/envs/aula-pdm/lib/python3.10/site-packages (from keyring->keyrings.google-artifactregistry-auth->apache-beam[gcp]) (3.4.0)\r\n",
      "Requirement already satisfied: jaraco.functools in /home/roberto/.conda/envs/aula-pdm/lib/python3.10/site-packages (from keyring->keyrings.google-artifactregistry-auth->apache-beam[gcp]) (4.2.1)\r\n",
      "Requirement already satisfied: jaraco.context in /home/roberto/.conda/envs/aula-pdm/lib/python3.10/site-packages (from keyring->keyrings.google-artifactregistry-auth->apache-beam[gcp]) (6.0.1)\r\n",
      "Requirement already satisfied: cryptography>=2.0 in /home/roberto/.conda/envs/aula-pdm/lib/python3.10/site-packages (from SecretStorage>=3.2->keyring->keyrings.google-artifactregistry-auth->apache-beam[gcp]) (45.0.6)\r\n",
      "Requirement already satisfied: cffi>=1.14 in /home/roberto/.conda/envs/aula-pdm/lib/python3.10/site-packages (from cryptography>=2.0->SecretStorage>=3.2->keyring->keyrings.google-artifactregistry-auth->apache-beam[gcp]) (1.17.1)\r\n",
      "Requirement already satisfied: pycparser in /home/roberto/.conda/envs/aula-pdm/lib/python3.10/site-packages (from cffi>=1.14->cryptography>=2.0->SecretStorage>=3.2->keyring->keyrings.google-artifactregistry-auth->apache-beam[gcp]) (2.22)\r\n",
      "Requirement already satisfied: more-itertools in /home/roberto/.conda/envs/aula-pdm/lib/python3.10/site-packages (from jaraco.classes->keyring->keyrings.google-artifactregistry-auth->apache-beam[gcp]) (10.7.0)\r\n",
      "Requirement already satisfied: backports.tarfile in /home/roberto/.conda/envs/aula-pdm/lib/python3.10/site-packages (from jaraco.context->keyring->keyrings.google-artifactregistry-auth->apache-beam[gcp]) (1.2.0)\r\n",
      "Note: you may need to restart the kernel to use updated packages.\n"
     ]
    }
   ],
   "source": [
    "%pip install apache-beam[gcp]"
   ]
  },
  {
   "cell_type": "markdown",
   "id": "ac3873320083b061",
   "metadata": {
    "ExecuteTime": {
     "end_time": "2025-08-16T19:35:58.900833Z",
     "start_time": "2025-08-16T19:35:58.897809Z"
    }
   },
   "source": [
    "Vamos executar o código clássico de wordcount.\n",
    "```bash\n",
    "$ python -m apache_beam.examples.wordcount --output wordcount-local-output\n",
    "INFO:root:Missing pipeline option (runner). Executing pipeline using the default runner: DirectRunner.\n",
    "INFO:apache_beam.io.iobase:*** WriteImpl min_shards undef so its 1, and we write per Bundle\n",
    "INFO:apache_beam.runners.worker.statecache:Creating state cache with size 104857600\n",
    "INFO:apache_beam.io.filebasedsink:Starting finalize_write threads with num_shards: 1 (skipped: 0), batches: 1, num_threads: 1\n",
    "INFO:apache_beam.io.filebasedsink:Renamed 1 shards in 0.01 seconds.\n",
    "```"
   ]
  },
  {
   "cell_type": "markdown",
   "id": "958874f449d292ef",
   "metadata": {},
   "source": [
    "O comando acima irá executar o exemplo de wordcount localmente, salvando a saída no arquivo `wordcount-local-output-00000-of-00001`.\n",
    "Você pode executar o comando abaixo para obter a lista das 10 palavras mais frequentes:\n",
    "```bash\n",
    "$ sort -t: -k2 -nr wordcount-local-output-00000-of-00001 | head -n 10\n",
    "the: 786\n",
    "I: 622\n",
    "and: 594\n",
    "of: 447\n",
    "to: 438\n",
    "my: 402\n",
    "you: 401\n",
    "a: 366\n",
    "in: 271\n",
    "not: 266\n",
    "```"
   ]
  },
  {
   "cell_type": "markdown",
   "id": "290b134138054662",
   "metadata": {},
   "source": [
    "### 3.1. Explicando o código (1)\n",
    "\n",
    "O código do exemplo de wordcount está disponível no repositório do GitHub do Apache Beam, [wordcount.py](https://github.com/apache/beam/blob/master/sdks/python/apache_beam/examples/wordcount.py).\n",
    "\n",
    "A função `WordExtractingDoFn` é responsável por extrair as palavras de cada linha do arquivo de entrada.\n",
    "\n",
    "```python\n",
    "class WordExtractingDoFn(beam.DoFn):\n",
    "  \"\"\"Parse each line of input text into words.\"\"\"\n",
    "  def process(self, element):\n",
    "    \"\"\"Returns an iterator over the words of this element.\n",
    "\n",
    "    The element is a line of text.  If the line is blank, note that, too.\n",
    "\n",
    "    Args:\n",
    "      element: the element being processed\n",
    "\n",
    "    Returns:\n",
    "      The processed element.\n",
    "    \"\"\"\n",
    "    return re.findall(r'[\\w\\']+', element, re.UNICODE)\n",
    "```"
   ]
  },
  {
   "cell_type": "code",
   "execution_count": 4,
   "id": "58b587ec44bfbde0",
   "metadata": {
    "execution": {
     "iopub.execute_input": "2025-08-23T18:52:54.627414Z",
     "iopub.status.busy": "2025-08-23T18:52:54.626766Z",
     "iopub.status.idle": "2025-08-23T18:52:54.631752Z",
     "shell.execute_reply": "2025-08-23T18:52:54.631043Z",
     "shell.execute_reply.started": "2025-08-23T18:52:54.627386Z"
    }
   },
   "outputs": [
    {
     "data": {
      "text/plain": [
       "['Aula', 'de', 'PDM', 'sobre', 'Dataflow']"
      ]
     },
     "execution_count": 4,
     "metadata": {},
     "output_type": "execute_result"
    }
   ],
   "source": [
    "import re\n",
    "\n",
    "# Para ver na prática o que a função findall faz, vamos rodar o comando abaixo.\n",
    "linha = \"Aula de PDM sobre Dataflow\"\n",
    "re.findall(r'[\\w\\']+', linha, re.UNICODE)"
   ]
  },
  {
   "cell_type": "markdown",
   "id": "ef44bae2-8d40-4025-8007-14fe5ec9d401",
   "metadata": {},
   "source": [
    "### 3.2. Explicando o código (2)\n",
    "\n",
    "O trecho abaixo foi recortado do exemplo, vamos acompanhar os comentários para entender o que está acontecendo.\n",
    "\n",
    "```python\n",
    "# Inicialização do pipeline com os argumentos passados, ex.: --output\n",
    "pipeline = beam.Pipeline(options=pipeline_options)\n",
    "\n",
    "# Primeira etapa do pipeline, a entrada de dados, o valor em known_args.input é o arquivo de entrada\n",
    "# Como não passamos um valor, será utilizado um padrão (gs://dataflow-samples/shakespeare/kinglear.txt)\n",
    "lines = pipeline | 'Read' >> ReadFromText(known_args.input)\n",
    "\n",
    "# Segunda etapa do pipeline, a contagem das palavras, isso é feito em 3 etapas:\n",
    "# +-------------------------+     +--------------------------+     +--------------------+\n",
    "# | 1) Divisão das palavras | --> | 2) Atribuição de valores | --> | 3) Agrupamento e   |\n",
    "# |   (\"tokenização\")       |     |   (ex.: palavra -> 1)    |     |    soma (reduce)   |\n",
    "# +-------------------------+     +--------------------------+     +--------------------+\n",
    "#\n",
    "# 1. Transformação das linhas em palavras, a função WordExtractingDoFn que faz isso\n",
    "# \n",
    "# 2. Atribuição do valor 1 para cada palavra, no nosso exemplo acima, o resultado seria assim:\n",
    "#   Aula    : 1\n",
    "#   de      : 1\n",
    "#   PDM     : 1\n",
    "#   sobre   : 1\n",
    "#   Dataflow: 1\n",
    "# \n",
    "# 3. Agrupa as palavras iguais e soma os valores atribuídos no passo anterior.\n",
    "# \n",
    "counts = (\n",
    "  lines\n",
    "  | 'Split' >> (beam.ParDo(WordExtractingDoFn()).with_output_types(str))\n",
    "  | 'PairWithOne' >> beam.Map(lambda x: (x, 1))\n",
    "  | 'GroupAndSum' >> beam.CombinePerKey(sum))\n",
    "\n",
    "\n",
    "# Format the counts into a PCollection of strings.\n",
    "def format_result(word, count):\n",
    "  return '%s: %d' % (word, count)\n",
    "\n",
    "output = counts | 'Format' >> beam.MapTuple(format_result)\n",
    "\n",
    "# Última etapa do pipeline, a escrita do resultado no arquivo que passamos como parâmetro\n",
    "output | 'Write' >> WriteToText(known_args.output)\n",
    "\n",
    "# Execução do pipeline\n",
    "result = pipeline.run()\n",
    "result.wait_until_finish()\n",
    "```"
   ]
  },
  {
   "cell_type": "markdown",
   "id": "883281be7d58c015",
   "metadata": {},
   "source": [
    "## 4. Dataflow - Runners: DirectRunner e DataflowRunner\n",
    "\n",
    "O exemplo de wordcount é um pipeline simples que lê um arquivo de texto, conta as palavras e escreve a saída em um arquivo.\n",
    "\n",
    "O comando acima executou o código com o `DirectRunner`, que é o executor local do Apache Beam."
   ]
  },
  {
   "cell_type": "markdown",
   "id": "65e222cb09e25be8",
   "metadata": {
    "jupyter": {
     "source_hidden": true
    }
   },
   "source": [
    "Antes de executar o pipeline no Google Cloud Dataflow, é necessário configurar o ambiente e associar ao projeto no Google Cloud Platform (GCP).\n",
    "\n",
    "Primeiramente, precisamos configurar algumas variáveis de ambiente:\n",
    "\n",
    "```bash\n",
    "export PROJECT_ID=pdm-savio\n",
    "export PROJECT_NUMBER=559515741601\n",
    "export USER_IDENTIFIER=robertogyn19@gmail.com\n",
    "```\n",
    "\n",
    "As informações de `PROJECT_ID` e `PROJECT_NUMBER` podem ser obtidas no console do GCP, na seção \"IAM e administrador\" > \"Configurações\" ([link](https://console.cloud.google.com/iam-admin/settings)).\n",
    "\n",
    "![Configurações do projeto](imagens-dataflow/img1-settings.png)\n",
    "\n",
    "Com as variáveis de ambiente configuradas, vamos configurar as permissões necessárias para o usuário executar o pipeline no Dataflow.\n",
    "```bash\n",
    "gcloud projects add-iam-policy-binding $PROJECT_ID --member=\"user:$USER_IDENTIFIER\" --role=roles/iam.serviceAccountUser\n",
    "\n",
    "gcloud projects add-iam-policy-binding $PROJECT_ID \\\n",
    "--member=\"serviceAccount:$PROJECT_NUMBER-compute@developer.gserviceaccount.com\" \\\n",
    "--role=roles/dataflow.admin\n",
    "\n",
    "gcloud projects add-iam-policy-binding $PROJECT_ID \\\n",
    "--member=\"serviceAccount:$PROJECT_NUMBER-compute@developer.gserviceaccount.com\" \\\n",
    "--role=roles/dataflow.worker\n",
    "\n",
    "gcloud projects add-iam-policy-binding $PROJECT_ID \\\n",
    "--member=\"serviceAccount:$PROJECT_NUMBER-compute@developer.gserviceaccount.com\" \\\n",
    "--role=roles/storage.objectAdmin"
   ]
  },
  {
   "cell_type": "markdown",
   "id": "b61eaec8d92e6073",
   "metadata": {},
   "source": [
    "Agora vamos executar o mesmo código utilizando o `DataflowRunner`, que é o executor do Google Cloud Dataflow.\n",
    "\n",
    "```bash\n",
    "python -m apache_beam.examples.wordcount \\\n",
    "    --runner DataflowRunner \\\n",
    "    --project pdm-savio \\\n",
    "    --region us-central1 \\\n",
    "    --temp_location gs://tmp-pdm/dataflow/ \\\n",
    "    --output gs://tmp-pdm/wordcount-output-$USER\n",
    "```\n",
    "\n",
    "Agora vamos acessar a página do [Dataflow](https://console.cloud.google.com/dataflow/jobs/us-central1) para ver o nosso job.\n",
    "![dataflow-job](imagens-dataflow/img3-wordcount-job.png)"
   ]
  },
  {
   "cell_type": "markdown",
   "id": "ed54bfae-6cd3-47c9-aaf0-df57d5bf2ec3",
   "metadata": {},
   "source": [
    "### 4.1. Dataflow - Outros runners\n",
    "\n",
    "Além dos runners Direct utilizado para testes e o GCP Dataflow, existem também:\n",
    "1. Apache Flink Runner:\n",
    "    * Usa o motor Apache Flink (muito forte em streaming de baixa latência).\n",
    "    * Suporte robusto a stateful processing e event-time. \n",
    "2. Apache Spark Runner:\n",
    "    * Usa o motor Apache Spark\n",
    "    * Bom para workloads batch grandes (Spark SQL, MLlib, etc.).\n",
    "3. Samza Runner:\n",
    "   * Usa Apache Samza (mantido pelo LinkedIn).\n",
    "   * Focado em streaming com integração a Kafka e YARN."
   ]
  }
 ],
 "metadata": {
  "kernelspec": {
   "display_name": "Python 3 (ipykernel)",
   "language": "python",
   "name": "python3"
  },
  "language_info": {
   "codemirror_mode": {
    "name": "ipython",
    "version": 3
   },
   "file_extension": ".py",
   "mimetype": "text/x-python",
   "name": "python",
   "nbconvert_exporter": "python",
   "pygments_lexer": "ipython3",
   "version": "3.10.13"
  }
 },
 "nbformat": 4,
 "nbformat_minor": 5
}
