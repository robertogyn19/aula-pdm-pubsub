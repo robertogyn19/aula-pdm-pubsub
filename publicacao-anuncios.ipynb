{
 "cells": [
  {
   "cell_type": "code",
   "id": "initial_id",
   "metadata": {
    "collapsed": true,
    "ExecuteTime": {
     "end_time": "2025-09-13T22:09:15.042889Z",
     "start_time": "2025-09-13T22:09:14.849540Z"
    }
   },
   "source": [
    "import csv\n",
    "import google.auth\n",
    "import json\n",
    "import sys\n",
    "\n",
    "from google.api_core.exceptions import AlreadyExists\n",
    "from google.cloud import pubsub_v1\n",
    "from google.cloud.pubsub_v1.types import BatchSettings\n",
    "\n",
    "from pathlib import Path\n",
    "from typing import Any"
   ],
   "outputs": [],
   "execution_count": 1
  },
  {
   "metadata": {},
   "cell_type": "code",
   "source": [
    "_, project_id = google.auth.default()\n",
    "print(project_id)"
   ],
   "id": "be313bda17e8c420",
   "outputs": [],
   "execution_count": null
  },
  {
   "metadata": {},
   "cell_type": "code",
   "outputs": [],
   "execution_count": null,
   "source": [
    "topic_id = \"aula-pdm-anuncios\"\n",
    "# Dentro do diretório anuncions, existem vários arquivos distintos\n",
    "# Cada arquivo contém anúncios de um estado ou cidade específica\n",
    "# Você pode escolher qualquer um deles para publicar\n",
    "anuncios_file = \"/home/dataproc/aula-pdm-pubsub/dados/anuncios/imoveis_go-goiania.jsonl\""
   ],
   "id": "9c3cb55abc575e2c"
  },
  {
   "metadata": {},
   "cell_type": "code",
   "outputs": [],
   "execution_count": null,
   "source": [
    "batch_settings = BatchSettings(\n",
    "    max_bytes=5 * 1024 * 1024,  # No máximo 5MB por lote\n",
    "    max_messages=1000,  # até 1000 messages por lote\n",
    "    max_latency=0.25,  # envia a cada 250ms\n",
    ")\n",
    "publisher = pubsub_v1.PublisherClient(batch_settings=batch_settings)"
   ],
   "id": "34f7ded21bc118fa"
  },
  {
   "metadata": {},
   "cell_type": "code",
   "outputs": [],
   "execution_count": null,
   "source": [
    "topic_path = publisher.topic_path(project_id, topic_id)\n",
    "try:\n",
    "    publisher.create_topic(name=topic_path)\n",
    "except AlreadyExists:\n",
    "    print(f\"O tópico {topic_id} já existe.\")"
   ],
   "id": "91ce475f08ee1ed7"
  },
  {
   "metadata": {
    "ExecuteTime": {
     "end_time": "2025-09-13T22:09:26.675738Z",
     "start_time": "2025-09-13T22:09:26.484941Z"
    }
   },
   "cell_type": "code",
   "source": [
    "# Lê o JSONL e armazena os JSONs convertidos em uma lista\n",
    "linhas_json = Path(anuncios_file).open(\"r\", encoding=\"utf-8\").readlines()\n",
    "num_rows = len(linhas_json)\n",
    "\n",
    "print(f\"Foram lidas {num_rows} linhas do arquivo {anuncios_file}.\")"
   ],
   "id": "1cea17f0e0bc8ece",
   "outputs": [],
   "execution_count": 3
  },
  {
   "metadata": {},
   "cell_type": "code",
   "source": "print(linhas_json[0])",
   "id": "969f80f15b5e17bd",
   "outputs": [],
   "execution_count": null
  },
  {
   "metadata": {},
   "cell_type": "code",
   "outputs": [],
   "execution_count": null,
   "source": [
    "futures = []\n",
    "for idx, linha in enumerate(linhas_json):\n",
    "    future = publisher.publish(topic_path, data=linha.encode(\"utf-8\"), row=str(idx))\n",
    "    futures.append(future)"
   ],
   "id": "2d64769f01a673a"
  },
  {
   "metadata": {},
   "cell_type": "code",
   "outputs": [],
   "execution_count": null,
   "source": [
    "for fut in futures:\n",
    "    fut.result(timeout=60)"
   ],
   "id": "ef00366d36c86852"
  },
  {
   "metadata": {},
   "cell_type": "code",
   "outputs": [],
   "execution_count": null,
   "source": "",
   "id": "af808d1afd354b96"
  },
  {
   "metadata": {},
   "cell_type": "code",
   "outputs": [],
   "execution_count": null,
   "source": "",
   "id": "391badf4ec8dce76"
  },
  {
   "metadata": {},
   "cell_type": "code",
   "outputs": [],
   "execution_count": null,
   "source": "",
   "id": "401b64f5198ad50d"
  }
 ],
 "metadata": {
  "kernelspec": {
   "display_name": "Python 3",
   "language": "python",
   "name": "python3"
  },
  "language_info": {
   "codemirror_mode": {
    "name": "ipython",
    "version": 2
   },
   "file_extension": ".py",
   "mimetype": "text/x-python",
   "name": "python",
   "nbconvert_exporter": "python",
   "pygments_lexer": "ipython2",
   "version": "2.7.6"
  }
 },
 "nbformat": 4,
 "nbformat_minor": 5
}
