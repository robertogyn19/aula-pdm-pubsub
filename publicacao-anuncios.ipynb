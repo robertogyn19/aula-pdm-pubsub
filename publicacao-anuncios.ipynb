{
 "cells": [
  {
   "cell_type": "code",
   "id": "initial_id",
   "metadata": {
    "collapsed": true,
    "ExecuteTime": {
     "end_time": "2025-09-13T22:09:15.042889Z",
     "start_time": "2025-09-13T22:09:14.849540Z"
    }
   },
   "source": [
    "import csv\n",
    "import json\n",
    "import sys\n",
    "from typing import Any\n",
    "\n",
    "import google.auth\n",
    "\n",
    "from google.api_core.exceptions import AlreadyExists\n",
    "from google.cloud import pubsub_v1\n",
    "from google.cloud.pubsub_v1.types import BatchSettings"
   ],
   "outputs": [],
   "execution_count": 1
  },
  {
   "metadata": {
    "ExecuteTime": {
     "end_time": "2025-09-13T22:09:16.880163Z",
     "start_time": "2025-09-13T22:09:16.280592Z"
    }
   },
   "cell_type": "code",
   "source": [
    "_, project_id = google.auth.default()\n",
    "print(project_id)"
   ],
   "id": "be313bda17e8c420",
   "outputs": [
    {
     "name": "stderr",
     "output_type": "stream",
     "text": [
      "/home/roberto/.conda/envs/aula-pdm/lib/python3.10/site-packages/google/auth/_default.py:76: UserWarning: Your application has authenticated using end user credentials from Google Cloud SDK without a quota project. You might receive a \"quota exceeded\" or \"API not enabled\" error. See the following page for troubleshooting: https://cloud.google.com/docs/authentication/adc-troubleshooting/user-creds. \n",
      "  warnings.warn(_CLOUD_SDK_CREDENTIALS_WARNING)\n"
     ]
    }
   ],
   "execution_count": 2
  },
  {
   "metadata": {},
   "cell_type": "code",
   "outputs": [],
   "execution_count": null,
   "source": [
    "topic_id = \"anuncios\"\n",
    "anuncios_file = \"dados/anuncios-2025-09-08.csv\""
   ],
   "id": "9c3cb55abc575e2c"
  },
  {
   "metadata": {},
   "cell_type": "code",
   "outputs": [],
   "execution_count": null,
   "source": [
    "batch_settings = BatchSettings(\n",
    "    max_bytes=5 * 1024 * 1024,  # No máximo 5MB por lote\n",
    "    max_messages=1000,  # até 1000 messages por lote\n",
    "    max_latency=0.25,  # envia a cada 250ms\n",
    ")\n",
    "publisher = pubsub_v1.PublisherClient(batch_settings=batch_settings)"
   ],
   "id": "34f7ded21bc118fa"
  },
  {
   "metadata": {},
   "cell_type": "code",
   "outputs": [],
   "execution_count": null,
   "source": [
    "topic_path = publisher.topic_path(project_id, topic_id)\n",
    "try:\n",
    "    publisher.create_topic(name=topic_path)\n",
    "except AlreadyExists:\n",
    "    print(f\"O tópico {topic_id} já existe.\")"
   ],
   "id": "91ce475f08ee1ed7"
  },
  {
   "metadata": {},
   "cell_type": "code",
   "outputs": [],
   "execution_count": null,
   "source": [
    "int_fields = [\n",
    "    \"id_link\",\n",
    "    \"anuncio_id\",\n",
    "    \"qtd_quartos\",\n",
    "    \"qtd_suites\",\n",
    "    \"qtd_banheiros\",\n",
    "    \"qtd_vagas_garagem\",\n",
    "    \"id_anuncio_plataforma\",\n",
    "    \"id_anuncio_externo\",\n",
    "    \"id\",\n",
    "]\n",
    "float_fields = [\n",
    "    \"area_total\",\n",
    "    \"area_construida\",\n",
    "    \"area_util\",\n",
    "    \"preco\",\n",
    "    \"iptu\",\n",
    "]\n",
    "date_fields = [\n",
    "    \"data_cadastro\",\n",
    "    \"data_atualizacao\",\n",
    "    \"data_delecao\",\n",
    "    \"data_criacao_anuncio_plataforma\",\n",
    "]\n",
    "\n",
    "\n",
    "def enforce_types(row: dict[str, Any]) -> dict[str, Any]:\n",
    "    for i in int_fields:\n",
    "        if i in row and row[i] != \"\":\n",
    "            try:\n",
    "                row[i] = int(row[i])\n",
    "            except ValueError:\n",
    "                # print(f\"WARNING: Could not convert field {i} to int: {row[i]}\", file=sys.stderr)\n",
    "                row[i] = None\n",
    "        else:\n",
    "            row[i] = None\n",
    "\n",
    "    for f in float_fields:\n",
    "        if f in row and row[f] != \"\":\n",
    "            try:\n",
    "                row[f] = float(row[f])\n",
    "            except ValueError:\n",
    "                # print(f\"WARNING: Could not convert field {f} to float: {row[f]}\", file=sys.stderr)\n",
    "                row[f] = None\n",
    "        else:\n",
    "            row[f] = None\n",
    "\n",
    "    for d in date_fields:\n",
    "        if d in row and row[d] == \"\":\n",
    "            row[d] = None\n",
    "\n",
    "    return row"
   ],
   "id": "73728ce5a53aee2e"
  },
  {
   "metadata": {
    "ExecuteTime": {
     "end_time": "2025-09-13T22:09:26.675738Z",
     "start_time": "2025-09-13T22:09:26.484941Z"
    }
   },
   "cell_type": "code",
   "source": [
    "# Lê o CSV e armazena os JSONs convertidos em uma lista\n",
    "linhas_json = []\n",
    "num_rows = 0\n",
    "with open(anuncios_file, \"r\", encoding=\"utf-8\", newline=\"\") as f:\n",
    "    reader = csv.DictReader(f, delimiter=\",\")\n",
    "    if reader.fieldnames is None:\n",
    "        print(\"ERROR: CSV appears to have no header row.\", file=sys.stderr)\n",
    "        sys.exit(2)\n",
    "\n",
    "    for idx, row in enumerate(reader, start=1):\n",
    "        # Converte a linha do CSV para JSON\n",
    "        linha_json = json.dumps(enforce_types(row), ensure_ascii=False)\n",
    "        linhas_json.append(linha_json)\n",
    "        num_rows += 1\n",
    "\n",
    "print(f\"Foram lidas {num_rows} linhas do arquivo {anuncios_file}.\")"
   ],
   "id": "1cea17f0e0bc8ece",
   "outputs": [],
   "execution_count": 3
  },
  {
   "metadata": {
    "ExecuteTime": {
     "end_time": "2025-09-13T22:09:41.800546Z",
     "start_time": "2025-09-13T22:09:41.798165Z"
    }
   },
   "cell_type": "code",
   "source": "print(linhas_json[0])",
   "id": "969f80f15b5e17bd",
   "outputs": [
    {
     "name": "stdout",
     "output_type": "stream",
     "text": [
      "{\"site\": \"olx\", \"id_link\": \"39\", \"anuncio_id\": \"19\", \"descricao\": \"Código do anúncio: 885-15_2-3721005Contato // Whatsapp: (62) 9.8208.8690 Apartamento Mobiliado à Venda Jardim América Pronto para morar! Mobiliado, climatizado e com excelente custo-benefício. - 62 m² - 2 Quartos (1 suíte com ar-condicionado) - Ar-condicionado também na sala - 2 Vagas de garagem - Posição solar transversal - Andar baixo - R 490.000 - Condomínio: R 590,00 Lazer completo: - Piscina - Espaço gourmet - Playground - Mini mercado no condomínio Perfeito para quem busca conforto, praticidade e localização estratégica! (62) 9.8208.8690 Danilo Oliveira (62) 9.9982.4360 Ellen Cordeiro\", \"titulo\": \"Apartamento para Venda em Goiânia, Jardim América, 2 dormitórios, 1 suíte, 2 banheiros, 2\", \"endereco_completo\": \"Jardim América, Goiânia, GO\", \"cep\": \"74265050\", \"andar\": \"\", \"area_total\": \"\", \"area_construida\": \"\", \"area_util\": \"62.0\", \"qtd_quartos\": \"2\", \"qtd_suites\": \"\", \"qtd_banheiros\": \"2\", \"qtd_vagas_garagem\": \"2\", \"preco\": \"490000.00\", \"iptu\": \"\", \"condominio\": \"\", \"coordenadas\": \"\", \"link_google_maps\": \"\", \"print\": \"\", \"data_cadastro\": \"2025-08-16 13:35:18.804459\", \"estado_do_imovel\": \"\", \"status_do_anuncio\": \"\", \"id_anuncio_plataforma\": \"1428597914\", \"id_anuncio_externo\": \"1702630092\", \"id\": \"19\", \"data_atualizacao\": \"2025-08-16 14:01:51.338054\", \"deletado\": \"true\", \"data_delecao\": \"2025-08-16 14:01:51.338054\", \"coleta\": \"3\", \"data_criacao_anuncio_plataforma\": \"2025-08-14 17:46:41.000000\", \"caracteristicas\": \"\", \"imagens\": \"https://listings-api.sefaz.ceia.inf.ufg.br/anuncios/19/imagens/10/content, https://listings-api.sefaz.ceia.inf.ufg.br/anuncios/19/imagens/11/content, https://listings-api.sefaz.ceia.inf.ufg.br/anuncios/19/imagens/12/content, https://listings-api.sefaz.ceia.inf.ufg.br/anuncios/19/imagens/13/content, https://listings-api.sefaz.ceia.inf.ufg.br/anuncios/19/imagens/14/content, https://listings-api.sefaz.ceia.inf.ufg.br/anuncios/19/imagens/15/content, https://listings-api.sefaz.ceia.inf.ufg.br/anuncios/19/imagens/16/content, https://listings-api.sefaz.ceia.inf.ufg.br/anuncios/19/imagens/17/content, https://listings-api.sefaz.ceia.inf.ufg.br/anuncios/19/imagens/18/content, https://listings-api.sefaz.ceia.inf.ufg.br/anuncios/19/imagens/19/content, https://listings-api.sefaz.ceia.inf.ufg.br/anuncios/19/imagens/20/content, https://listings-api.sefaz.ceia.inf.ufg.br/anuncios/19/imagens/21/content, https://listings-api.sefaz.ceia.inf.ufg.br/anuncios/19/imagens/22/content, https://listings-api.sefaz.ceia.inf.ufg.br/anuncios/19/imagens/23/content, https://listings-api.sefaz.ceia.inf.ufg.br/anuncios/19/imagens/24/content, https://listings-api.sefaz.ceia.inf.ufg.br/anuncios/19/imagens/25/content, https://listings-api.sefaz.ceia.inf.ufg.br/anuncios/19/imagens/26/content, https://listings-api.sefaz.ceia.inf.ufg.br/anuncios/19/imagens/7/content, https://listings-api.sefaz.ceia.inf.ufg.br/anuncios/19/imagens/8/content, https://listings-api.sefaz.ceia.inf.ufg.br/anuncios/19/imagens/9/content\"}\n"
     ]
    }
   ],
   "execution_count": 5
  },
  {
   "metadata": {},
   "cell_type": "code",
   "outputs": [],
   "execution_count": null,
   "source": [
    "futures = []\n",
    "for idx, linha in enumerate(linhas_json):\n",
    "    future = publisher.publish(topic_path, data=linha.encode(\"utf-8\"), row=str(idx))\n",
    "    futures.append(future)"
   ],
   "id": "2d64769f01a673a"
  },
  {
   "metadata": {},
   "cell_type": "code",
   "outputs": [],
   "execution_count": null,
   "source": [
    "for fut in futures:\n",
    "    fut.result(timeout=60)"
   ],
   "id": "ef00366d36c86852"
  },
  {
   "metadata": {},
   "cell_type": "code",
   "outputs": [],
   "execution_count": null,
   "source": "",
   "id": "af808d1afd354b96"
  },
  {
   "metadata": {},
   "cell_type": "code",
   "outputs": [],
   "execution_count": null,
   "source": "",
   "id": "391badf4ec8dce76"
  },
  {
   "metadata": {},
   "cell_type": "code",
   "outputs": [],
   "execution_count": null,
   "source": "",
   "id": "401b64f5198ad50d"
  }
 ],
 "metadata": {
  "kernelspec": {
   "display_name": "Python 3",
   "language": "python",
   "name": "python3"
  },
  "language_info": {
   "codemirror_mode": {
    "name": "ipython",
    "version": 2
   },
   "file_extension": ".py",
   "mimetype": "text/x-python",
   "name": "python",
   "nbconvert_exporter": "python",
   "pygments_lexer": "ipython2",
   "version": "2.7.6"
  }
 },
 "nbformat": 4,
 "nbformat_minor": 5
}
